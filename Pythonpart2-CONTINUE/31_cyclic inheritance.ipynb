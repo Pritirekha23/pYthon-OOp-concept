{
 "cells": [
  {
   "cell_type": "markdown",
   "id": "ad67327c",
   "metadata": {},
   "source": [
    "# cyclic inheritance"
   ]
  },
  {
   "cell_type": "markdown",
   "id": "c79fa90d",
   "metadata": {},
   "source": [
    "1-It is not supported in python and it is not required"
   ]
  },
  {
   "cell_type": "code",
   "execution_count": 1,
   "id": "d6db09f2",
   "metadata": {},
   "outputs": [
    {
     "ename": "NameError",
     "evalue": "name 'A' is not defined",
     "output_type": "error",
     "traceback": [
      "\u001b[1;31m------------------------------------------------------------------------\u001b[0m",
      "\u001b[1;31mNameError\u001b[0m                              Traceback (most recent call last)",
      "Input \u001b[1;32mIn [1]\u001b[0m, in \u001b[0;36m<cell line: 1>\u001b[1;34m()\u001b[0m\n\u001b[1;32m----> 1\u001b[0m \u001b[38;5;28;01mclass\u001b[39;00m \u001b[38;5;21;01mA\u001b[39;00m(\u001b[43mA\u001b[49m):\n\u001b[0;32m      2\u001b[0m     \u001b[38;5;28;01mdef\u001b[39;00m \u001b[38;5;21mmethod\u001b[39m(\u001b[38;5;28mself\u001b[39m):\n\u001b[0;32m      3\u001b[0m         \u001b[38;5;28mprint\u001b[39m(\u001b[38;5;124m'\u001b[39m\u001b[38;5;124mA class method\u001b[39m\u001b[38;5;124m'\u001b[39m)\n",
      "\u001b[1;31mNameError\u001b[0m: name 'A' is not defined"
     ]
    }
   ],
   "source": [
    "class A(A):\n",
    "    def method(self):\n",
    "        print('A class method')\n",
    "        \n",
    "a=A()\n",
    "a.method()"
   ]
  },
  {
   "cell_type": "code",
   "execution_count": 2,
   "id": "6e8c3468",
   "metadata": {},
   "outputs": [
    {
     "ename": "NameError",
     "evalue": "name 'B' is not defined",
     "output_type": "error",
     "traceback": [
      "\u001b[1;31m------------------------------------------------------------------------\u001b[0m",
      "\u001b[1;31mNameError\u001b[0m                              Traceback (most recent call last)",
      "Input \u001b[1;32mIn [2]\u001b[0m, in \u001b[0;36m<cell line: 1>\u001b[1;34m()\u001b[0m\n\u001b[1;32m----> 1\u001b[0m \u001b[38;5;28;01mclass\u001b[39;00m \u001b[38;5;21;01mA\u001b[39;00m(\u001b[43mB\u001b[49m):\n\u001b[0;32m      2\u001b[0m     \u001b[38;5;28;01mdef\u001b[39;00m \u001b[38;5;21mmethod\u001b[39m(\u001b[38;5;28mself\u001b[39m):\n\u001b[0;32m      3\u001b[0m         \u001b[38;5;28mprint\u001b[39m(\u001b[38;5;124m'\u001b[39m\u001b[38;5;124mA class method\u001b[39m\u001b[38;5;124m'\u001b[39m)\n",
      "\u001b[1;31mNameError\u001b[0m: name 'B' is not defined"
     ]
    }
   ],
   "source": [
    "class A(B):\n",
    "    def method(self):\n",
    "        print('A class method')\n",
    "       \n",
    "class B(A):\n",
    "    def method1(self):\n",
    "        print('B class method')\n",
    "    \n",
    "a=A()\n",
    "a.method()"
   ]
  },
  {
   "cell_type": "code",
   "execution_count": 3,
   "id": "69b902f6",
   "metadata": {},
   "outputs": [
    {
     "name": "stdout",
     "output_type": "stream",
     "text": [
      "A class method1\n",
      "B class method1\n"
     ]
    }
   ],
   "source": [
    "#solution\n",
    "\n",
    "class A:\n",
    "    def method1(self):\n",
    "        print('A class method1')\n",
    "    def method2(self):\n",
    "        print('B class method1')\n",
    "        \n",
    "        \n",
    "a=A()\n",
    "a.method1()\n",
    "a.method2()"
   ]
  }
 ],
 "metadata": {
  "kernelspec": {
   "display_name": "Python 3 (ipykernel)",
   "language": "python",
   "name": "python3"
  },
  "language_info": {
   "codemirror_mode": {
    "name": "ipython",
    "version": 3
   },
   "file_extension": ".py",
   "mimetype": "text/x-python",
   "name": "python",
   "nbconvert_exporter": "python",
   "pygments_lexer": "ipython3",
   "version": "3.9.12"
  }
 },
 "nbformat": 4,
 "nbformat_minor": 5
}
