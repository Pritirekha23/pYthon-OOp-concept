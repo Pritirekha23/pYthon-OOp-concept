{
 "cells": [
  {
   "cell_type": "markdown",
   "id": "9ebac249",
   "metadata": {},
   "source": [
    "# Signle inheritance"
   ]
  },
  {
   "cell_type": "markdown",
   "id": "9f702ea4",
   "metadata": {},
   "source": [
    "-In single inheritance a child class can derive from a parent class.\n",
    "-one child is having one parent"
   ]
  },
  {
   "cell_type": "code",
   "execution_count": 7,
   "id": "3f109ab2",
   "metadata": {},
   "outputs": [
    {
     "name": "stdout",
     "output_type": "stream",
     "text": [
      "10\n",
      "20\n",
      "30\n",
      "40\n"
     ]
    }
   ],
   "source": [
    "#example-1\n",
    "class A:\n",
    "    def method1(self):\n",
    "        self.i=10\n",
    "        self.j=20\n",
    "        print(self.i)\n",
    "        print(self.j)\n",
    "    def method2(self):\n",
    "        self.k=30\n",
    "        self.m=40\n",
    "        print(self.k)\n",
    "        print(self.m)\n",
    "    \n",
    "class B(A):\n",
    "    pass\n",
    "\n",
    "b=B()\n",
    "b.method1()\n",
    "b.method2()"
   ]
  },
  {
   "cell_type": "code",
   "execution_count": 9,
   "id": "d9e45a99",
   "metadata": {},
   "outputs": [
    {
     "name": "stdout",
     "output_type": "stream",
     "text": [
      "10\n",
      "20\n",
      "30\n",
      "40\n",
      "444\n",
      "555\n"
     ]
    }
   ],
   "source": [
    "#example-2\n",
    "#CHILD CLASS CAN ACCESS OWN MEMBERS AS WELL AS PARENT CLASSS MEMBER\n",
    "class A:\n",
    "    def method1(self):\n",
    "        self.i=10\n",
    "        self.j=20\n",
    "        print(self.i)\n",
    "        print(self.j)\n",
    "    def method2(self):\n",
    "        self.k=30\n",
    "        self.m=40\n",
    "        print(self.k)\n",
    "        print(self.m)\n",
    "    \n",
    "class B(A):\n",
    "    def method3(self):\n",
    "        self.x=444\n",
    "        self.y=555\n",
    "        print(self.x)\n",
    "        print(self.y)\n",
    "\n",
    "b=B()\n",
    "b.method1()\n",
    "b.method2()\n",
    "b.method3()"
   ]
  },
  {
   "cell_type": "code",
   "execution_count": 11,
   "id": "87fe67f3",
   "metadata": {},
   "outputs": [
    {
     "name": "stdout",
     "output_type": "stream",
     "text": [
      "10\n",
      "20\n",
      "30\n",
      "40\n"
     ]
    },
    {
     "ename": "AttributeError",
     "evalue": "'A' object has no attribute 'method3'",
     "output_type": "error",
     "traceback": [
      "\u001b[1;31m---------------------------------------------------------------------------\u001b[0m",
      "\u001b[1;31mAttributeError\u001b[0m                            Traceback (most recent call last)",
      "Input \u001b[1;32mIn [11]\u001b[0m, in \u001b[0;36m<cell line: 20>\u001b[1;34m()\u001b[0m\n\u001b[0;32m     18\u001b[0m a\u001b[38;5;241m.\u001b[39mmethod1()\n\u001b[0;32m     19\u001b[0m a\u001b[38;5;241m.\u001b[39mmethod2()\n\u001b[1;32m---> 20\u001b[0m \u001b[43ma\u001b[49m\u001b[38;5;241;43m.\u001b[39;49m\u001b[43mmethod3\u001b[49m()\n",
      "\u001b[1;31mAttributeError\u001b[0m: 'A' object has no attribute 'method3'"
     ]
    }
   ],
   "source": [
    "#Example-3\n",
    "#PARENT CLASS CAN ACCESS ONLY OWN MEMBERS NOT CHILD CLASSS MEMBERS\n",
    "class A:\n",
    "    def method1(self):\n",
    "        self.i=10\n",
    "        self.j=20\n",
    "        print(self.i)\n",
    "        print(self.j)\n",
    "    def method2(self):\n",
    "        self.k=30\n",
    "        self.m=40\n",
    "        print(self.k)\n",
    "        print(self.m)\n",
    "    \n",
    "class B(A):\n",
    "    pass\n",
    "\n",
    "a=A()\n",
    "a.method1()\n",
    "a.method2()\n",
    "a.method3()  # we cant call method2 bcz it is the method of class B"
   ]
  },
  {
   "cell_type": "code",
   "execution_count": 12,
   "id": "5cb15ff7",
   "metadata": {},
   "outputs": [
    {
     "name": "stdout",
     "output_type": "stream",
     "text": [
      "parent class instance method\n",
      "parent class class method\n",
      "parent class  static method\n"
     ]
    }
   ],
   "source": [
    "#example-4\n",
    "class A:\n",
    "    def im(self):\n",
    "        print('parent class instance method')\n",
    "        \n",
    "    @classmethod\n",
    "    def cm(cls):\n",
    "        print('parent class class method')\n",
    "        \n",
    "    @staticmethod\n",
    "    def sm():\n",
    "        print('parent class  static method')\n",
    "        \n",
    "\n",
    "class B(A):\n",
    "    pass\n",
    "\n",
    "b=B()\n",
    "b.im()\n",
    "b.cm()\n",
    "b.sm()\n",
    "    "
   ]
  },
  {
   "cell_type": "code",
   "execution_count": 17,
   "id": "72958858",
   "metadata": {},
   "outputs": [
    {
     "name": "stdout",
     "output_type": "stream",
     "text": [
      "parent class instance method\n",
      "parent class class method\n",
      "parent class  static method\n",
      "30\n",
      "58\n",
      "888\n"
     ]
    },
    {
     "ename": "AttributeError",
     "evalue": "'B' object has no attribute 'lv'",
     "output_type": "error",
     "traceback": [
      "\u001b[1;31m---------------------------------------------------------------------------\u001b[0m",
      "\u001b[1;31mAttributeError\u001b[0m                            Traceback (most recent call last)",
      "Input \u001b[1;32mIn [17]\u001b[0m, in \u001b[0;36m<cell line: 29>\u001b[1;34m()\u001b[0m\n\u001b[0;32m     27\u001b[0m \u001b[38;5;28mprint\u001b[39m(b\u001b[38;5;241m.\u001b[39mc)\n\u001b[0;32m     28\u001b[0m \u001b[38;5;28mprint\u001b[39m(b\u001b[38;5;241m.\u001b[39mv)\n\u001b[1;32m---> 29\u001b[0m \u001b[38;5;28mprint\u001b[39m(\u001b[43mb\u001b[49m\u001b[38;5;241;43m.\u001b[39;49m\u001b[43mlv\u001b[49m)\n",
      "\u001b[1;31mAttributeError\u001b[0m: 'B' object has no attribute 'lv'"
     ]
    }
   ],
   "source": [
    "#example-5\n",
    "class A:\n",
    "    v=888  #static variable\n",
    "    def im(self):\n",
    "        self.i=30  #instance variable\n",
    "        print('parent class instance method')\n",
    "        \n",
    "    @classmethod\n",
    "    def cm(cls):\n",
    "        cls.c=58 # static variable\n",
    "        print('parent class class method')\n",
    "        \n",
    "    @staticmethod\n",
    "    def sm():\n",
    "        lv=89 # local variable\n",
    "        print('parent class  static method')\n",
    "        \n",
    "\n",
    "class B(A):\n",
    "    pass\n",
    "\n",
    "b=B()\n",
    "b.im()\n",
    "b.cm()\n",
    "b.sm()\n",
    "print(b.i)    \n",
    "print(b.c)\n",
    "print(b.v)\n",
    "print(b.lv)  # we cant access local variable bcz after the method execution completed the lv will destroy from the memory\n"
   ]
  },
  {
   "cell_type": "code",
   "execution_count": 21,
   "id": "1a50f6d2",
   "metadata": {},
   "outputs": [
    {
     "name": "stdout",
     "output_type": "stream",
     "text": [
      "10\n",
      "10\n",
      "2581173660240\n",
      "2581173660240\n",
      "True\n"
     ]
    }
   ],
   "source": [
    "#example-6\n",
    "class A:\n",
    "    def im(self):\n",
    "        self.i=10\n",
    "        \n",
    "class B(A):\n",
    "    pass\n",
    "\n",
    "#object for class A\n",
    "a=A()\n",
    "a.im()\n",
    "print(a.i)\n",
    "\n",
    "\n",
    "#object for class B\n",
    "b=B()\n",
    "b.im()\n",
    "print(b.i)\n",
    "\n",
    "\n",
    "# a.i and b.i is pointing to same memory location\n",
    "print(id(a.i))\n",
    "print(id(b.i))\n",
    "print(a.i is b.i)"
   ]
  },
  {
   "cell_type": "code",
   "execution_count": 36,
   "id": "c309fa29",
   "metadata": {},
   "outputs": [
    {
     "name": "stdout",
     "output_type": "stream",
     "text": [
      "10\n",
      "89\n"
     ]
    }
   ],
   "source": [
    "#example-7\n",
    "class A:\n",
    "    def im(self):\n",
    "        self.i=10\n",
    "        \n",
    "class B(A):\n",
    "    def im2(self):\n",
    "        self.i=89 # (inside child classs updated i value 10 to 89)\n",
    "\n",
    "#object for class A\n",
    "a=A()\n",
    "a.im()\n",
    "print(a.i)\n",
    "print\n",
    "\n",
    "\n",
    "#object for class B\n",
    "b=B()\n",
    "b.im()\n",
    "b.im2()\n",
    "print(b.i)\n",
    "\n",
    "\n"
   ]
  },
  {
   "cell_type": "code",
   "execution_count": 35,
   "id": "094b0b38",
   "metadata": {},
   "outputs": [
    {
     "name": "stdout",
     "output_type": "stream",
     "text": [
      "{'i': 10}\n",
      "{'i': 89}\n"
     ]
    }
   ],
   "source": [
    "print(a.__dict__)\n",
    "print(b.__dict__)"
   ]
  },
  {
   "cell_type": "markdown",
   "id": "d48d9608",
   "metadata": {},
   "source": [
    " If we will do any modification in child class it will not reflect to parent class"
   ]
  }
 ],
 "metadata": {
  "kernelspec": {
   "display_name": "Python 3 (ipykernel)",
   "language": "python",
   "name": "python3"
  },
  "language_info": {
   "codemirror_mode": {
    "name": "ipython",
    "version": 3
   },
   "file_extension": ".py",
   "mimetype": "text/x-python",
   "name": "python",
   "nbconvert_exporter": "python",
   "pygments_lexer": "ipython3",
   "version": "3.9.12"
  }
 },
 "nbformat": 4,
 "nbformat_minor": 5
}
