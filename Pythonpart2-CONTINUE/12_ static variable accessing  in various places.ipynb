{
 "cells": [
  {
   "cell_type": "markdown",
   "id": "82bda10b",
   "metadata": {},
   "source": [
    "# Static variable  accessing in Various places "
   ]
  },
  {
   "cell_type": "code",
   "execution_count": null,
   "id": "4428fcaf",
   "metadata": {},
   "outputs": [],
   "source": [
    "# In 5 places we can access static variable\n",
    " \n",
    "#1] Outside of the class\n",
    "#2] Inside Constructor\n",
    "#3] Inside Instance method\n",
    "#4] Inside class method\n",
    "#5] Inside static method"
   ]
  },
  {
   "cell_type": "markdown",
   "id": "6663e552",
   "metadata": {},
   "source": [
    "## 1] Outside of the class"
   ]
  },
  {
   "cell_type": "code",
   "execution_count": 2,
   "id": "352cbd8b",
   "metadata": {},
   "outputs": [
    {
     "name": "stdout",
     "output_type": "stream",
     "text": [
      "xyz clg\n"
     ]
    }
   ],
   "source": [
    "class Student:\n",
    "    college='xyz clg'\n",
    "print(Student.college)"
   ]
  },
  {
   "cell_type": "markdown",
   "id": "0351c42f",
   "metadata": {},
   "source": [
    "## 2] Inside Constructor"
   ]
  },
  {
   "cell_type": "code",
   "execution_count": 11,
   "id": "aea35d57",
   "metadata": {},
   "outputs": [
    {
     "name": "stdout",
     "output_type": "stream",
     "text": [
      "abc clg\n"
     ]
    }
   ],
   "source": [
    "class sTudent:\n",
    "    college='abc clg'\n",
    "    \n",
    "    def __init__(self):\n",
    "        print(sTudent.college)\n",
    "s1=sTudent()"
   ]
  },
  {
   "cell_type": "markdown",
   "id": "75e93566",
   "metadata": {},
   "source": [
    "## 3] Inside Instance method"
   ]
  },
  {
   "cell_type": "code",
   "execution_count": 6,
   "id": "fb22a3d5",
   "metadata": {},
   "outputs": [
    {
     "name": "stdout",
     "output_type": "stream",
     "text": [
      "kmn college\n"
     ]
    }
   ],
   "source": [
    "class stUdent:\n",
    "    clg='kmn college'\n",
    "\n",
    "    def display(self):\n",
    "        print(stUdent.clg)\n",
    "s1=stUdent()\n",
    "s1.display()"
   ]
  },
  {
   "cell_type": "markdown",
   "id": "c25c86a5",
   "metadata": {},
   "source": [
    "## 4] Inside class method"
   ]
  },
  {
   "cell_type": "code",
   "execution_count": 7,
   "id": "f4fb35c2",
   "metadata": {},
   "outputs": [
    {
     "name": "stdout",
     "output_type": "stream",
     "text": [
      "opQ college\n"
     ]
    }
   ],
   "source": [
    "# inside class method using class name\n",
    "class stuDent:\n",
    "    clg='opQ college'\n",
    "    \n",
    "    @classmethod\n",
    "    def cm(cls):\n",
    "        print(stuDent.clg)  # accessing static variable using class name \n",
    "stuDent.cm()"
   ]
  },
  {
   "cell_type": "code",
   "execution_count": 9,
   "id": "dc2ba94b",
   "metadata": {},
   "outputs": [
    {
     "name": "stdout",
     "output_type": "stream",
     "text": [
      "opQR college\n"
     ]
    }
   ],
   "source": [
    "# inside class method using cls variable\n",
    "class stuDent:\n",
    "    clg='opQR college'\n",
    "    \n",
    "    @classmethod\n",
    "    def cm(cls):\n",
    "        print(cls.clg)  # accessing static variable using cls variable\n",
    "stuDent.cm()"
   ]
  },
  {
   "cell_type": "markdown",
   "id": "46f9e373",
   "metadata": {},
   "source": [
    "## 5] Inside static method"
   ]
  },
  {
   "cell_type": "code",
   "execution_count": 10,
   "id": "e67b01f4",
   "metadata": {},
   "outputs": [
    {
     "name": "stdout",
     "output_type": "stream",
     "text": [
      "jkLL college\n"
     ]
    }
   ],
   "source": [
    "class studEnt:\n",
    "    clg='jkLL college'\n",
    "    \n",
    "    @staticmethod\n",
    "    def sm():\n",
    "        print(studEnt.clg)\n",
    "s1=studEnt()\n",
    "s1.sm()"
   ]
  },
  {
   "cell_type": "code",
   "execution_count": 12,
   "id": "26ae49fd",
   "metadata": {},
   "outputs": [
    {
     "name": "stdout",
     "output_type": "stream",
     "text": [
      "{'__module__': '__main__', 'clg': 'jkLL college', 'sm': <staticmethod object at 0x000002C27FCB8280>, '__dict__': <attribute '__dict__' of 'studEnt' objects>, '__weakref__': <attribute '__weakref__' of 'studEnt' objects>, '__doc__': None}\n"
     ]
    }
   ],
   "source": [
    "print(studEnt.__dict__)"
   ]
  },
  {
   "cell_type": "code",
   "execution_count": 13,
   "id": "758edb0a",
   "metadata": {},
   "outputs": [
    {
     "name": "stdout",
     "output_type": "stream",
     "text": [
      "{}\n"
     ]
    }
   ],
   "source": [
    "print(s1.__dict__)"
   ]
  }
 ],
 "metadata": {
  "kernelspec": {
   "display_name": "Python 3 (ipykernel)",
   "language": "python",
   "name": "python3"
  },
  "language_info": {
   "codemirror_mode": {
    "name": "ipython",
    "version": 3
   },
   "file_extension": ".py",
   "mimetype": "text/x-python",
   "name": "python",
   "nbconvert_exporter": "python",
   "pygments_lexer": "ipython3",
   "version": "3.9.12"
  }
 },
 "nbformat": 4,
 "nbformat_minor": 5
}
