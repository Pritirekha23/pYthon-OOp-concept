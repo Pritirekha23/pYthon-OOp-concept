{
 "cells": [
  {
   "cell_type": "markdown",
   "id": "6b8815b0",
   "metadata": {},
   "source": [
    "# Local variable creation , accessing , modification and deletion in various places"
   ]
  },
  {
   "cell_type": "raw",
   "id": "7e02f9da",
   "metadata": {},
   "source": [
    "dt-26/12/22\n",
    "#Local variable means temporary variable\n",
    "#Local variables are created inside a function or method\n",
    "# At the time of function execution local variables are created and once method execution is completed it will destroy from the memory.\n",
    "3# We can access local variables inside  the method , we cant access them outside of  the method bcz after successfully execution it will gone from the memory."
   ]
  },
  {
   "cell_type": "code",
   "execution_count": 4,
   "id": "dffaf30b",
   "metadata": {},
   "outputs": [
    {
     "name": "stdout",
     "output_type": "stream",
     "text": [
      "5\n"
     ]
    }
   ],
   "source": [
    "#Example-1\n",
    "class Calculation:\n",
    "    def add(self):\n",
    "        a=3\n",
    "        b=2\n",
    "        c=a+b\n",
    "        print(c)\n",
    "\n",
    "s1=Calculation()\n",
    "s1.add()"
   ]
  },
  {
   "cell_type": "code",
   "execution_count": 7,
   "id": "05fcfdcb",
   "metadata": {},
   "outputs": [
    {
     "name": "stdout",
     "output_type": "stream",
     "text": [
      "4\n",
      "2\n"
     ]
    },
    {
     "ename": "NameError",
     "evalue": "name 'a' is not defined",
     "output_type": "error",
     "traceback": [
      "\u001b[1;31m-------------------------------------------------------------\u001b[0m",
      "\u001b[1;31mNameError\u001b[0m                   Traceback (most recent call last)",
      "Input \u001b[1;32mIn [7]\u001b[0m, in \u001b[0;36m<cell line: 14>\u001b[1;34m()\u001b[0m\n\u001b[0;32m     12\u001b[0m c1\u001b[38;5;241m=\u001b[39mCal()\n\u001b[0;32m     13\u001b[0m c1\u001b[38;5;241m.\u001b[39mtest()\n\u001b[1;32m---> 14\u001b[0m \u001b[43mc1\u001b[49m\u001b[38;5;241;43m.\u001b[39;49m\u001b[43mdemo\u001b[49m\u001b[43m(\u001b[49m\u001b[43m)\u001b[49m\n",
      "Input \u001b[1;32mIn [7]\u001b[0m, in \u001b[0;36mCal.demo\u001b[1;34m(self)\u001b[0m\n\u001b[0;32m      9\u001b[0m \u001b[38;5;28;01mdef\u001b[39;00m \u001b[38;5;21mdemo\u001b[39m(\u001b[38;5;28mself\u001b[39m):\n\u001b[1;32m---> 10\u001b[0m     \u001b[38;5;28mprint\u001b[39m(\u001b[43ma\u001b[49m)\n\u001b[0;32m     11\u001b[0m     \u001b[38;5;28mprint\u001b[39m(b)\n",
      "\u001b[1;31mNameError\u001b[0m: name 'a' is not defined"
     ]
    }
   ],
   "source": [
    "#Example-2\n",
    "\n",
    "class Cal:\n",
    "    def test(self):\n",
    "        a=4\n",
    "        b=2\n",
    "        print(a)\n",
    "        print(b)\n",
    "    def demo(self):\n",
    "        print(a)\n",
    "        print(b)\n",
    "c1=Cal()\n",
    "c1.test()\n",
    "c1.demo() # we cant access local variable outsoide of the function \n",
    "\n"
   ]
  },
  {
   "cell_type": "code",
   "execution_count": 7,
   "id": "c85edcd4",
   "metadata": {},
   "outputs": [
    {
     "name": "stdout",
     "output_type": "stream",
     "text": [
      "4\n",
      "2\n",
      "2\n"
     ]
    },
    {
     "ename": "UnboundLocalError",
     "evalue": "local variable 'a' referenced before assignment",
     "output_type": "error",
     "traceback": [
      "\u001b[1;31m---------------------------------------------------------------------------\u001b[0m",
      "\u001b[1;31mUnboundLocalError\u001b[0m                         Traceback (most recent call last)",
      "Input \u001b[1;32mIn [7]\u001b[0m, in \u001b[0;36m<cell line: 13>\u001b[1;34m()\u001b[0m\n\u001b[0;32m     11\u001b[0m         \u001b[38;5;28mprint\u001b[39m(a)\n\u001b[0;32m     12\u001b[0m c1\u001b[38;5;241m=\u001b[39mCal()\n\u001b[1;32m---> 13\u001b[0m \u001b[43mc1\u001b[49m\u001b[38;5;241;43m.\u001b[39;49m\u001b[43mtest\u001b[49m\u001b[43m(\u001b[49m\u001b[43m)\u001b[49m\n",
      "Input \u001b[1;32mIn [7]\u001b[0m, in \u001b[0;36mCal.test\u001b[1;34m(self)\u001b[0m\n\u001b[0;32m      9\u001b[0m \u001b[38;5;28;01mdel\u001b[39;00m a\n\u001b[0;32m     10\u001b[0m \u001b[38;5;28mprint\u001b[39m(b)\n\u001b[1;32m---> 11\u001b[0m \u001b[38;5;28mprint\u001b[39m(\u001b[43ma\u001b[49m)\n",
      "\u001b[1;31mUnboundLocalError\u001b[0m: local variable 'a' referenced before assignment"
     ]
    }
   ],
   "source": [
    "# Deletion of local variable\n",
    "# Outside of the function deletion is not possible\n",
    "class Cal:\n",
    "    def test(self):\n",
    "        a=4\n",
    "        b=2\n",
    "        print(a)\n",
    "        print(b)\n",
    "        del a\n",
    "        print(b)\n",
    "        print(a)\n",
    "c1=Cal()\n",
    "c1.test()"
   ]
  },
  {
   "cell_type": "code",
   "execution_count": null,
   "id": "8cdea9b1",
   "metadata": {},
   "outputs": [],
   "source": [
    "#ACCESSING \n",
    "class Student:\n",
    "    def __init__(self,n,a,r):\n",
    "        self.name=n\n",
    "        self.age=a\n",
    "        self.roll=r\n",
    "    def printdetail(self):\n",
    "        print(self.name) # accessing instance variable\n",
    "        print(n) # accessing local variable error will occur \n",
    "        \n",
    "s2=Student('Priyanka',23,1023)\n",
    "s2.printdetail()"
   ]
  },
  {
   "cell_type": "code",
   "execution_count": null,
   "id": "9efc19b1",
   "metadata": {},
   "outputs": [],
   "source": []
  },
  {
   "cell_type": "code",
   "execution_count": null,
   "id": "18c4ac77",
   "metadata": {},
   "outputs": [],
   "source": []
  }
 ],
 "metadata": {
  "kernelspec": {
   "display_name": "Python 3 (ipykernel)",
   "language": "python",
   "name": "python3"
  },
  "language_info": {
   "codemirror_mode": {
    "name": "ipython",
    "version": 3
   },
   "file_extension": ".py",
   "mimetype": "text/x-python",
   "name": "python",
   "nbconvert_exporter": "python",
   "pygments_lexer": "ipython3",
   "version": "3.9.12"
  }
 },
 "nbformat": 4,
 "nbformat_minor": 5
}
