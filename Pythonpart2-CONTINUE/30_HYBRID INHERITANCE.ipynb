{
 "cells": [
  {
   "cell_type": "markdown",
   "id": "ee26618d",
   "metadata": {},
   "source": [
    "# HYBRID INHERITANCE"
   ]
  },
  {
   "cell_type": "markdown",
   "id": "0a6930e6",
   "metadata": {},
   "source": [
    "dt-19 jan 2023\n",
    "(1)It is the collection of more than one inheritance.\n",
    "(2)ex- single+multi-level\n",
    "    single+hierarchical\n",
    "    single+multiple\n",
    "    single+multi-level+hierarchical+multiple"
   ]
  },
  {
   "cell_type": "code",
   "execution_count": 4,
   "id": "26fad03b",
   "metadata": {},
   "outputs": [
    {
     "name": "stdout",
     "output_type": "stream",
     "text": [
      "parent class A method1\n",
      "parent class A method2\n",
      " class B method3\n",
      "class C method5\n",
      "class method6\n",
      " class D method7\n",
      " class D method8\n"
     ]
    }
   ],
   "source": [
    "#Ex-1\n",
    "\n",
    "class A:\n",
    "    def method1(self):\n",
    "        print('parent class A method1')\n",
    "    def method2(self):\n",
    "        print('parent class A method2')\n",
    "        \n",
    "class B(A):\n",
    "    def method3(self):\n",
    "        print(' class B method3')\n",
    "    \n",
    "class C(A):\n",
    "    def method5(self):\n",
    "        print('class C method5')\n",
    "    def method6(self):\n",
    "        print('class method6')\n",
    "        \n",
    "class D(B,C):\n",
    "    def method7(self):\n",
    "        print(' class D method7')\n",
    "    def method8(self):\n",
    "        print(' class D method8')\n",
    "        \n",
    "d=D()\n",
    "d.method1()\n",
    "d.method2()\n",
    "d.method3()\n",
    "d.method5()\n",
    "d.method6()\n",
    "d.method7()\n",
    "d.method8()"
   ]
  },
  {
   "cell_type": "code",
   "execution_count": null,
   "id": "dadae200",
   "metadata": {},
   "outputs": [],
   "source": []
  },
  {
   "cell_type": "code",
   "execution_count": null,
   "id": "ed02ff62",
   "metadata": {},
   "outputs": [],
   "source": []
  }
 ],
 "metadata": {
  "kernelspec": {
   "display_name": "Python 3 (ipykernel)",
   "language": "python",
   "name": "python3"
  },
  "language_info": {
   "codemirror_mode": {
    "name": "ipython",
    "version": 3
   },
   "file_extension": ".py",
   "mimetype": "text/x-python",
   "name": "python",
   "nbconvert_exporter": "python",
   "pygments_lexer": "ipython3",
   "version": "3.9.12"
  }
 },
 "nbformat": 4,
 "nbformat_minor": 5
}
