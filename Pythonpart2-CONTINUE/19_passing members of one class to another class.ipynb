{
 "cells": [
  {
   "cell_type": "markdown",
   "id": "94c38a0e",
   "metadata": {},
   "source": [
    "# passing members of one class to another class"
   ]
  },
  {
   "cell_type": "code",
   "execution_count": 22,
   "id": "d1586b5b",
   "metadata": {},
   "outputs": [
    {
     "name": "stdout",
     "output_type": "stream",
     "text": [
      "-------STUDENT INFORMATION------\n",
      "Name is Priyanka\n",
      "Age is 24 \n",
      "Roll is  1024344454\n",
      "Address is  Bhubaneswara\n",
      "-------STUDENT INFORMATION------\n",
      "Name is Priyanka\n",
      "Age is 24 \n",
      "Roll is  1024344454\n",
      "Address is  Cuttack\n"
     ]
    }
   ],
   "source": [
    "#Dt-05/01/2023\n",
    "# example-1\n",
    "class Student:\n",
    "    def __init__(self,name,age,roll,address):\n",
    "        self.name=name\n",
    "        self.age=age\n",
    "        self.roll=roll\n",
    "        self.address=address\n",
    "        \n",
    "    def printdetails(self):\n",
    "        print('-------STUDENT INFORMATION------')\n",
    "        print(f'Name is {self.name}')\n",
    "        print(f'Age is {self.age} ')\n",
    "        print(f'Roll is  {self.roll}')\n",
    "        print(f'Address is  {self.address}')\n",
    "        \n",
    "class Normal:\n",
    "    @staticmethod\n",
    "    def modify(r):\n",
    "        r.address='Cuttack'\n",
    "    \n",
    "s1=Student('Priyanka',24,1024344454,'Bhubaneswara')\n",
    "s1.printdetails()\n",
    "\n",
    "Normal.modify(s1)\n",
    "s1.printdetails()"
   ]
  },
  {
   "cell_type": "code",
   "execution_count": 2,
   "id": "e21f7c31",
   "metadata": {},
   "outputs": [
    {
     "name": "stdout",
     "output_type": "stream",
     "text": [
      "x is 100\n",
      "x is 999\n"
     ]
    }
   ],
   "source": [
    "# example-2\n",
    "class A:\n",
    "    def __init__(self,x):\n",
    "        self.x=x\n",
    "    \n",
    "    def printdetails(self):\n",
    "        print(f'x is {self.x}')\n",
    "        \n",
    "        \n",
    "class B:\n",
    "    @staticmethod\n",
    "    def modify(r):\n",
    "        r.x=999\n",
    "\n",
    "a1=A(100)\n",
    "a1.printdetails()\n",
    "\n",
    "B.modify(a1)\n",
    "a1.printdetails()\n",
    "\n"
   ]
  },
  {
   "cell_type": "code",
   "execution_count": 2,
   "id": "92f5cd21",
   "metadata": {},
   "outputs": [
    {
     "name": "stdout",
     "output_type": "stream",
     "text": [
      "x is 100\n",
      "y is 200\n",
      "x is 100\n",
      "y is 888\n"
     ]
    }
   ],
   "source": [
    "# example-3\n",
    "class A:\n",
    "    def __init__(self,x,y):\n",
    "        self.x=x\n",
    "        self.y=y\n",
    "    def printdetails(self):\n",
    "        print(f'x is {self.x}')\n",
    "        print(f'y is {self.y}')\n",
    "        \n",
    "        \n",
    "class B:\n",
    "    @staticmethod\n",
    "    def modify(r):\n",
    "        r.y=888\n",
    "\n",
    "a1=A(100,200)\n",
    "a1.printdetails()\n",
    "\n",
    "B.modify(a1)\n",
    "a1.printdetails()\n",
    "\n"
   ]
  },
  {
   "cell_type": "code",
   "execution_count": null,
   "id": "3dbe1b6e",
   "metadata": {},
   "outputs": [],
   "source": []
  },
  {
   "cell_type": "code",
   "execution_count": null,
   "id": "6018333a",
   "metadata": {},
   "outputs": [],
   "source": []
  },
  {
   "cell_type": "code",
   "execution_count": null,
   "id": "14b86023",
   "metadata": {},
   "outputs": [],
   "source": []
  },
  {
   "cell_type": "code",
   "execution_count": null,
   "id": "48b9c176",
   "metadata": {},
   "outputs": [],
   "source": []
  },
  {
   "cell_type": "code",
   "execution_count": null,
   "id": "bc96796d",
   "metadata": {},
   "outputs": [],
   "source": []
  }
 ],
 "metadata": {
  "kernelspec": {
   "display_name": "Python 3 (ipykernel)",
   "language": "python",
   "name": "python3"
  },
  "language_info": {
   "codemirror_mode": {
    "name": "ipython",
    "version": 3
   },
   "file_extension": ".py",
   "mimetype": "text/x-python",
   "name": "python",
   "nbconvert_exporter": "python",
   "pygments_lexer": "ipython3",
   "version": "3.9.12"
  }
 },
 "nbformat": 4,
 "nbformat_minor": 5
}
