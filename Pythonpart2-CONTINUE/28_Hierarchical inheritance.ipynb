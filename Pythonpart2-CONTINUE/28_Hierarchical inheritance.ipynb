{
 "cells": [
  {
   "cell_type": "code",
   "execution_count": null,
   "id": "37c31e53",
   "metadata": {},
   "outputs": [],
   "source": [
    "Dt-19 Jan 2023"
   ]
  },
  {
   "cell_type": "markdown",
   "id": "675248d3",
   "metadata": {},
   "source": [
    "# Hierarchical Inheritance"
   ]
  },
  {
   "cell_type": "markdown",
   "id": "270cd3d1",
   "metadata": {},
   "source": [
    "In Hierarchical inheritance we will deal with at least 3 classes.\n",
    "Here multiple classes are derived from a single class."
   ]
  },
  {
   "cell_type": "code",
   "execution_count": 4,
   "id": "73481759",
   "metadata": {},
   "outputs": [
    {
     "name": "stdout",
     "output_type": "stream",
     "text": [
      "parent class method1\n",
      "parent class method2\n",
      "child class method5\n",
      "child class method6\n"
     ]
    }
   ],
   "source": [
    "class A:\n",
    "    def method1(self):\n",
    "        print('parent class method1')\n",
    "    def method2(self):\n",
    "        print('parent class method2')\n",
    "        \n",
    "class B(A):\n",
    "    def method3(self):\n",
    "        print('child class method3')\n",
    "    def method4(self):\n",
    "        print('child class method4')\n",
    "        \n",
    "class C(A):\n",
    "    def method5(self):\n",
    "        print('child class method5')\n",
    "    def method6(self):\n",
    "        print('child class method6')\n",
    "        \n",
    "c=C()\n",
    "c.method1()\n",
    "c.method2()\n",
    "c.method5()\n",
    "c.method6()\n",
    "#not possible (we cant access class B methods)\n",
    "#c.method4()\n",
    "#c.method5()"
   ]
  },
  {
   "cell_type": "code",
   "execution_count": 8,
   "id": "9d7c6cec",
   "metadata": {},
   "outputs": [
    {
     "name": "stdout",
     "output_type": "stream",
     "text": [
      "parent class method1\n",
      "parent class method2\n",
      "child class method3\n",
      "child class method4\n"
     ]
    },
    {
     "ename": "AttributeError",
     "evalue": "'B' object has no attribute 'method5'",
     "output_type": "error",
     "traceback": [
      "\u001b[1;31m--------------------------------------------------------------------\u001b[0m",
      "\u001b[1;31mAttributeError\u001b[0m                     Traceback (most recent call last)",
      "Input \u001b[1;32mIn [8]\u001b[0m, in \u001b[0;36m<cell line: 8>\u001b[1;34m()\u001b[0m\n\u001b[0;32m      5\u001b[0m b\u001b[38;5;241m.\u001b[39mmethod4()\n\u001b[0;32m      7\u001b[0m \u001b[38;5;66;03m#\u001b[39;00m\n\u001b[1;32m----> 8\u001b[0m \u001b[43mb\u001b[49m\u001b[38;5;241;43m.\u001b[39;49m\u001b[43mmethod5\u001b[49m()\n\u001b[0;32m      9\u001b[0m b\u001b[38;5;241m.\u001b[39mmethod6()\n",
      "\u001b[1;31mAttributeError\u001b[0m: 'B' object has no attribute 'method5'"
     ]
    }
   ],
   "source": [
    "b=B()\n",
    "b.method1()\n",
    "b.method2()\n",
    "b.method3()\n",
    "b.method4()\n",
    "\n",
    "#Here we cant access methods of class C\n",
    "b.method5()\n",
    "b.method6()"
   ]
  }
 ],
 "metadata": {
  "kernelspec": {
   "display_name": "Python 3 (ipykernel)",
   "language": "python",
   "name": "python3"
  },
  "language_info": {
   "codemirror_mode": {
    "name": "ipython",
    "version": 3
   },
   "file_extension": ".py",
   "mimetype": "text/x-python",
   "name": "python",
   "nbconvert_exporter": "python",
   "pygments_lexer": "ipython3",
   "version": "3.9.12"
  }
 },
 "nbformat": 4,
 "nbformat_minor": 5
}
