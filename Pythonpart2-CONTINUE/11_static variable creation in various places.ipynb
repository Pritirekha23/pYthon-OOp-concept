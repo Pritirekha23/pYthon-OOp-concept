{
 "cells": [
  {
   "cell_type": "markdown",
   "id": "2e8e74d1",
   "metadata": {},
   "source": [
    "# Static variable creation in various places."
   ]
  },
  {
   "cell_type": "code",
   "execution_count": null,
   "id": "c2952011",
   "metadata": {},
   "outputs": [],
   "source": [
    "  # There are 6 different places we can create static variable.\n",
    "   #1) Inside class directly\n",
    "   #2) Outside of the class\n",
    "   #3) Inside Constructor\n",
    "   #4) Inside instance method\n",
    "   #5) Inside class method\n",
    "   #6) Inside Static method"
   ]
  },
  {
   "cell_type": "markdown",
   "id": "031e950c",
   "metadata": {},
   "source": [
    "### Already I have done 3 ways In vs code 10_static variable creation in various places and here i will do rest of the codes"
   ]
  },
  {
   "cell_type": "markdown",
   "id": "2baac7cb",
   "metadata": {},
   "source": [
    "## 4) Inside instance method"
   ]
  },
  {
   "cell_type": "code",
   "execution_count": 7,
   "id": "f41cebf5",
   "metadata": {},
   "outputs": [],
   "source": [
    "#example-1\n",
    "class Student:\n",
    "    def create(self):\n",
    "        Student.college='NIT college'\n",
    "s1=Student()\n",
    "s1.create()"
   ]
  },
  {
   "cell_type": "code",
   "execution_count": 5,
   "id": "b788f720",
   "metadata": {},
   "outputs": [
    {
     "name": "stdout",
     "output_type": "stream",
     "text": [
      "{}\n"
     ]
    }
   ],
   "source": [
    "print(s1.__dict__)"
   ]
  },
  {
   "cell_type": "code",
   "execution_count": 8,
   "id": "04c2e82e",
   "metadata": {},
   "outputs": [
    {
     "name": "stdout",
     "output_type": "stream",
     "text": [
      "{'__module__': '__main__', 'create': <function Student.create at 0x00000267464F6AF0>, '__dict__': <attribute '__dict__' of 'Student' objects>, '__weakref__': <attribute '__weakref__' of 'Student' objects>, '__doc__': None, 'college': 'NIT college'}\n"
     ]
    }
   ],
   "source": [
    "print(Student.__dict__)\n",
    "# create is a instance method so here when we call Create then only college name will added as static variable "
   ]
  },
  {
   "cell_type": "code",
   "execution_count": 9,
   "id": "e7313614",
   "metadata": {},
   "outputs": [],
   "source": [
    "# example-2\n",
    "class Student:\n",
    "    def create(self,name):\n",
    "        Student.college='NIT college'\n",
    "        self.name=name\n",
    "s1=Student()\n",
    "s1.create('Rahul')"
   ]
  },
  {
   "cell_type": "code",
   "execution_count": 10,
   "id": "78beae63",
   "metadata": {},
   "outputs": [
    {
     "name": "stdout",
     "output_type": "stream",
     "text": [
      "{'name': 'Rahul'}\n"
     ]
    }
   ],
   "source": [
    "print(s1.__dict__)"
   ]
  },
  {
   "cell_type": "code",
   "execution_count": 11,
   "id": "96fe9ede",
   "metadata": {},
   "outputs": [
    {
     "name": "stdout",
     "output_type": "stream",
     "text": [
      "{'__module__': '__main__', 'create': <function Student.create at 0x0000026747FBB1F0>, '__dict__': <attribute '__dict__' of 'Student' objects>, '__weakref__': <attribute '__weakref__' of 'Student' objects>, '__doc__': None, 'college': 'NIT college'}\n"
     ]
    }
   ],
   "source": [
    "print(Student.__dict__)"
   ]
  },
  {
   "cell_type": "markdown",
   "id": "32f139fc",
   "metadata": {},
   "source": [
    "## 5) Inside class method"
   ]
  },
  {
   "cell_type": "code",
   "execution_count": null,
   "id": "97a47f82",
   "metadata": {},
   "outputs": [],
   "source": [
    "# 1st argument to the class method is cls\n",
    "# 1st argument to the constructor is self\n",
    "# 1st argument to the instance method is self\n",
    "# 1st argument to the static method is nothing"
   ]
  },
  {
   "cell_type": "code",
   "execution_count": null,
   "id": "a819f7ef",
   "metadata": {},
   "outputs": [],
   "source": [
    "# Inside class method we can create static variable using class name or cls variable\n",
    "# example-1\n",
    "\n",
    "class Student2:\n",
    "    @classmethod\n",
    "    def cm(cls):\n",
    "        Student2.college='MMT clg'  #static variable\n",
    "s11=Student2()\n",
    "Student2.cm() #This is the way to call class method using class name"
   ]
  },
  {
   "cell_type": "code",
   "execution_count": 31,
   "id": "b46b6be8",
   "metadata": {},
   "outputs": [
    {
     "name": "stdout",
     "output_type": "stream",
     "text": [
      "{}\n"
     ]
    }
   ],
   "source": [
    "print(s11.__dict__)"
   ]
  },
  {
   "cell_type": "code",
   "execution_count": 32,
   "id": "e7dce85e",
   "metadata": {},
   "outputs": [
    {
     "name": "stdout",
     "output_type": "stream",
     "text": [
      "{'__module__': '__main__', 'cm': <classmethod object at 0x00000267477FD610>, '__dict__': <attribute '__dict__' of 'Student2' objects>, '__weakref__': <attribute '__weakref__' of 'Student2' objects>, '__doc__': None, 'college': 'MMT clg'}\n"
     ]
    }
   ],
   "source": [
    "print(Student2.__dict__)"
   ]
  },
  {
   "cell_type": "code",
   "execution_count": 43,
   "id": "ad64f222",
   "metadata": {},
   "outputs": [
    {
     "name": "stdout",
     "output_type": "stream",
     "text": [
      "2642564072448\n"
     ]
    }
   ],
   "source": [
    "# using cls variable\n",
    "  # cls will point to current class object\n",
    "class Student2:\n",
    "    @classmethod\n",
    "    def cm(cls):\n",
    "        cls.college='MMkT clg'  #static variable\n",
    "        print(id(cls))\n",
    "s11=Student2()\n",
    "Student2.cm() #This is the way to call class method using cls variable"
   ]
  },
  {
   "cell_type": "code",
   "execution_count": 38,
   "id": "6abea274",
   "metadata": {},
   "outputs": [
    {
     "name": "stdout",
     "output_type": "stream",
     "text": [
      "{}\n"
     ]
    }
   ],
   "source": [
    "print(s11.__dict__)"
   ]
  },
  {
   "cell_type": "code",
   "execution_count": 39,
   "id": "02f5fb1a",
   "metadata": {},
   "outputs": [
    {
     "name": "stdout",
     "output_type": "stream",
     "text": [
      "{'__module__': '__main__', 'cm': <classmethod object at 0x00000267477FDC70>, '__dict__': <attribute '__dict__' of 'Student2' objects>, '__weakref__': <attribute '__weakref__' of 'Student2' objects>, '__doc__': None, 'college': 'MMkT clg'}\n"
     ]
    }
   ],
   "source": [
    "print(Student2.__dict__)"
   ]
  },
  {
   "cell_type": "code",
   "execution_count": 44,
   "id": "3cca760e",
   "metadata": {},
   "outputs": [
    {
     "name": "stdout",
     "output_type": "stream",
     "text": [
      "2642564072448\n"
     ]
    }
   ],
   "source": [
    "# cls and Student2 both are point into same object\n",
    "\n",
    "print(id(Student2))\n",
    "#print(id(cls))\n",
    "#2642564072448\n",
    "# same id "
   ]
  },
  {
   "cell_type": "code",
   "execution_count": 53,
   "id": "23db7640",
   "metadata": {},
   "outputs": [],
   "source": [
    "# example-2\n",
    "class Student23:\n",
    "    #def __init__(self,name):\n",
    "    #    self.name=name\n",
    "    @classmethod\n",
    "    def cm(cls):\n",
    "        Student23.college='MMlT clg'  #static variable\n",
    "        \n",
    "s101=Student23()\n",
    "Student23.cm() "
   ]
  },
  {
   "cell_type": "code",
   "execution_count": 54,
   "id": "a90ba09f",
   "metadata": {},
   "outputs": [
    {
     "name": "stdout",
     "output_type": "stream",
     "text": [
      "{}\n"
     ]
    }
   ],
   "source": [
    "print(s101.__dict__)"
   ]
  },
  {
   "cell_type": "code",
   "execution_count": 55,
   "id": "fa6a245f",
   "metadata": {},
   "outputs": [
    {
     "name": "stdout",
     "output_type": "stream",
     "text": [
      "{'__module__': '__main__', 'cm': <classmethod object at 0x000002674768C460>, '__dict__': <attribute '__dict__' of 'Student23' objects>, '__weakref__': <attribute '__weakref__' of 'Student23' objects>, '__doc__': None, 'college': 'MMlT clg'}\n"
     ]
    }
   ],
   "source": [
    "print(Student23.__dict__)"
   ]
  },
  {
   "cell_type": "markdown",
   "id": "105b17f3",
   "metadata": {},
   "source": [
    "## 6) Inside Static method"
   ]
  },
  {
   "cell_type": "code",
   "execution_count": 60,
   "id": "3908970e",
   "metadata": {},
   "outputs": [],
   "source": [
    "## 1st argument to the static method is nothing\n",
    "class StudenT:\n",
    "    @staticmethod\n",
    "    def sm():\n",
    "        StudenT.clg='KKM college'\n",
    "ss=StudenT()\n",
    "ss.sm()"
   ]
  },
  {
   "cell_type": "code",
   "execution_count": 61,
   "id": "925a24ec",
   "metadata": {},
   "outputs": [
    {
     "name": "stdout",
     "output_type": "stream",
     "text": [
      "{}\n"
     ]
    }
   ],
   "source": [
    "print(ss.__dict__)"
   ]
  },
  {
   "cell_type": "code",
   "execution_count": 62,
   "id": "e7db938b",
   "metadata": {},
   "outputs": [
    {
     "name": "stdout",
     "output_type": "stream",
     "text": [
      "{'__module__': '__main__', 'sm': <staticmethod object at 0x00000267475B9370>, '__dict__': <attribute '__dict__' of 'StudenT' objects>, '__weakref__': <attribute '__weakref__' of 'StudenT' objects>, '__doc__': None, 'clg': 'KKM college'}\n"
     ]
    }
   ],
   "source": [
    "print(StudenT.__dict__)"
   ]
  },
  {
   "cell_type": "code",
   "execution_count": null,
   "id": "21822efb",
   "metadata": {},
   "outputs": [],
   "source": []
  }
 ],
 "metadata": {
  "kernelspec": {
   "display_name": "Python 3 (ipykernel)",
   "language": "python",
   "name": "python3"
  },
  "language_info": {
   "codemirror_mode": {
    "name": "ipython",
    "version": 3
   },
   "file_extension": ".py",
   "mimetype": "text/x-python",
   "name": "python",
   "nbconvert_exporter": "python",
   "pygments_lexer": "ipython3",
   "version": "3.9.12"
  }
 },
 "nbformat": 4,
 "nbformat_minor": 5
}
