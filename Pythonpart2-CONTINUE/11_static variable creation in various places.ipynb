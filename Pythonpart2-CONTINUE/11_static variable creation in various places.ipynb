{
 "cells": [
  {
   "cell_type": "markdown",
   "id": "2e8e74d1",
   "metadata": {},
   "source": [
    "# Static variable creation in various places."
   ]
  },
  {
   "cell_type": "code",
   "execution_count": null,
   "id": "c2952011",
   "metadata": {},
   "outputs": [],
   "source": [
    "  # There are 6 different places we can create static variable.\n",
    "   #1) Inside class directly\n",
    "   #2) Outside of the class\n",
    "   #3) Inside Constructor\n",
    "   #4) Inside instance method\n",
    "   #5) Inside class method\n",
    "   #6) Inside Static method"
   ]
  },
  {
   "cell_type": "markdown",
   "id": "031e950c",
   "metadata": {},
   "source": [
    "### Already I have done 3 ways In vs code 10_static variable creation in various places and here i will do rest of the codes"
   ]
  },
  {
   "cell_type": "markdown",
   "id": "3948d8b3",
   "metadata": {},
   "source": [
    "## 4) Inside instance method"
   ]
  },
  {
   "cell_type": "code",
   "execution_count": 7,
   "id": "f41cebf5",
   "metadata": {},
   "outputs": [],
   "source": [
    "#example-1\n",
    "class Student:\n",
    "    def create(self):\n",
    "        Student.college='NIT college'\n",
    "s1=Student()\n",
    "s1.create()"
   ]
  },
  {
   "cell_type": "code",
   "execution_count": 5,
   "id": "b788f720",
   "metadata": {},
   "outputs": [
    {
     "name": "stdout",
     "output_type": "stream",
     "text": [
      "{}\n"
     ]
    }
   ],
   "source": [
    "print(s1.__dict__)"
   ]
  },
  {
   "cell_type": "code",
   "execution_count": 8,
   "id": "04c2e82e",
   "metadata": {},
   "outputs": [
    {
     "name": "stdout",
     "output_type": "stream",
     "text": [
      "{'__module__': '__main__', 'create': <function Student.create at 0x00000267464F6AF0>, '__dict__': <attribute '__dict__' of 'Student' objects>, '__weakref__': <attribute '__weakref__' of 'Student' objects>, '__doc__': None, 'college': 'NIT college'}\n"
     ]
    }
   ],
   "source": [
    "print(Student.__dict__)\n",
    "# create is a instance method so here when we call Create then only college name will added as static variable "
   ]
  },
  {
   "cell_type": "code",
   "execution_count": 9,
   "id": "e7313614",
   "metadata": {},
   "outputs": [],
   "source": [
    "# example-2\n",
    "class Student:\n",
    "    def create(self,name):\n",
    "        Student.college='NIT college'\n",
    "        self.name=name\n",
    "s1=Student()\n",
    "s1.create('Rahul')"
   ]
  },
  {
   "cell_type": "code",
   "execution_count": 10,
   "id": "efffabf1",
   "metadata": {},
   "outputs": [
    {
     "name": "stdout",
     "output_type": "stream",
     "text": [
      "{'name': 'Rahul'}\n"
     ]
    }
   ],
   "source": [
    "print(s1.__dict__)"
   ]
  },
  {
   "cell_type": "code",
   "execution_count": 11,
   "id": "1a63f8d3",
   "metadata": {},
   "outputs": [
    {
     "name": "stdout",
     "output_type": "stream",
     "text": [
      "{'__module__': '__main__', 'create': <function Student.create at 0x0000026747FBB1F0>, '__dict__': <attribute '__dict__' of 'Student' objects>, '__weakref__': <attribute '__weakref__' of 'Student' objects>, '__doc__': None, 'college': 'NIT college'}\n"
     ]
    }
   ],
   "source": [
    "print(Student.__dict__)"
   ]
  },
  {
   "cell_type": "markdown",
   "id": "df3b1320",
   "metadata": {},
   "source": [
    "## 5) Inside class method"
   ]
  },
  {
   "cell_type": "code",
   "execution_count": null,
   "id": "67fb03b1",
   "metadata": {},
   "outputs": [],
   "source": [
    "# 1st argument to the class method is cls\n",
    "# 1st argument to the constructor is self\n",
    "# 1st argument to the instance method is self"
   ]
  },
  {
   "cell_type": "code",
   "execution_count": null,
   "id": "685442b3",
   "metadata": {},
   "outputs": [],
   "source": [
    "# Inside class method we can create static variable using class name or cls variable\n",
    "# example-1\n",
    "\n",
    "class Student2:\n",
    "    @classmethod\n",
    "    def cm(cls):\n",
    "        Student2.college='MMT clg'  #static variable\n",
    "s11=Student2()\n",
    "Student2.cm() #This is the way to call class method using class name"
   ]
  },
  {
   "cell_type": "code",
   "execution_count": 31,
   "id": "a1cf18a1",
   "metadata": {},
   "outputs": [
    {
     "name": "stdout",
     "output_type": "stream",
     "text": [
      "{}\n"
     ]
    }
   ],
   "source": [
    "print(s11.__dict__)"
   ]
  },
  {
   "cell_type": "code",
   "execution_count": 32,
   "id": "a19e92a5",
   "metadata": {},
   "outputs": [
    {
     "name": "stdout",
     "output_type": "stream",
     "text": [
      "{'__module__': '__main__', 'cm': <classmethod object at 0x00000267477FD610>, '__dict__': <attribute '__dict__' of 'Student2' objects>, '__weakref__': <attribute '__weakref__' of 'Student2' objects>, '__doc__': None, 'college': 'MMT clg'}\n"
     ]
    }
   ],
   "source": [
    "print(Student2.__dict__)"
   ]
  },
  {
   "cell_type": "code",
   "execution_count": 43,
   "id": "d7bb3e85",
   "metadata": {},
   "outputs": [
    {
     "name": "stdout",
     "output_type": "stream",
     "text": [
      "2642564072448\n"
     ]
    }
   ],
   "source": [
    "# using cls variable\n",
    "  # cls will point to current class object\n",
    "class Student2:\n",
    "    @classmethod\n",
    "    def cm(cls):\n",
    "        cls.college='MMkT clg'  #static variable\n",
    "        print(id(cls))\n",
    "s11=Student2()\n",
    "Student2.cm() #This is the way to call class method using cls variable"
   ]
  },
  {
   "cell_type": "code",
   "execution_count": 38,
   "id": "d464a0d0",
   "metadata": {},
   "outputs": [
    {
     "name": "stdout",
     "output_type": "stream",
     "text": [
      "{}\n"
     ]
    }
   ],
   "source": [
    "print(s11.__dict__)"
   ]
  },
  {
   "cell_type": "code",
   "execution_count": 39,
   "id": "98158312",
   "metadata": {},
   "outputs": [
    {
     "name": "stdout",
     "output_type": "stream",
     "text": [
      "{'__module__': '__main__', 'cm': <classmethod object at 0x00000267477FDC70>, '__dict__': <attribute '__dict__' of 'Student2' objects>, '__weakref__': <attribute '__weakref__' of 'Student2' objects>, '__doc__': None, 'college': 'MMkT clg'}\n"
     ]
    }
   ],
   "source": [
    "print(Student2.__dict__)"
   ]
  },
  {
   "cell_type": "code",
   "execution_count": 44,
   "id": "11165787",
   "metadata": {},
   "outputs": [
    {
     "name": "stdout",
     "output_type": "stream",
     "text": [
      "2642564072448\n"
     ]
    }
   ],
   "source": [
    "# cls and Student2 both are point into same object\n",
    "\n",
    "print(id(Student2))\n",
    "#print(id(cls))\n",
    "#2642564072448\n",
    "# same id "
   ]
  },
  {
   "cell_type": "code",
   "execution_count": 53,
   "id": "decd9c26",
   "metadata": {},
   "outputs": [],
   "source": [
    "# example-2\n",
    "class Student23:\n",
    "    #def __init__(self,name):\n",
    "    #    self.name=name\n",
    "    @classmethod\n",
    "    def cm(cls):\n",
    "        Student23.college='MMlT clg'  #static variable\n",
    "        \n",
    "s101=Student23()\n",
    "Student23.cm() "
   ]
  },
  {
   "cell_type": "code",
   "execution_count": 54,
   "id": "c6b697f1",
   "metadata": {},
   "outputs": [
    {
     "name": "stdout",
     "output_type": "stream",
     "text": [
      "{}\n"
     ]
    }
   ],
   "source": [
    "print(s101.__dict__)"
   ]
  },
  {
   "cell_type": "code",
   "execution_count": 51,
   "id": "c218de70",
   "metadata": {},
   "outputs": [
    {
     "name": "stdout",
     "output_type": "stream",
     "text": [
      "{'__module__': '__main__', '__init__': <function Student23.__init__ at 0x000002674804EF70>, 'cm': <classmethod object at 0x00000267477DF4F0>, '__dict__': <attribute '__dict__' of 'Student23' objects>, '__weakref__': <attribute '__weakref__' of 'Student23' objects>, '__doc__': None, 'college': 'MMlT clg'}\n"
     ]
    }
   ],
   "source": [
    "print(Student23.__dict__)"
   ]
  },
  {
   "cell_type": "code",
   "execution_count": null,
   "id": "2496ce9d",
   "metadata": {},
   "outputs": [],
   "source": []
  },
  {
   "cell_type": "markdown",
   "id": "7cebf1eb",
   "metadata": {},
   "source": [
    "## 6) Inside Static method"
   ]
  },
  {
   "cell_type": "code",
   "execution_count": null,
   "id": "02418611",
   "metadata": {},
   "outputs": [],
   "source": []
  },
  {
   "cell_type": "code",
   "execution_count": null,
   "id": "060ef838",
   "metadata": {},
   "outputs": [],
   "source": []
  },
  {
   "cell_type": "code",
   "execution_count": null,
   "id": "335b109a",
   "metadata": {},
   "outputs": [],
   "source": []
  },
  {
   "cell_type": "code",
   "execution_count": null,
   "id": "d653866e",
   "metadata": {},
   "outputs": [],
   "source": []
  }
 ],
 "metadata": {
  "kernelspec": {
   "display_name": "Python 3 (ipykernel)",
   "language": "python",
   "name": "python3"
  },
  "language_info": {
   "codemirror_mode": {
    "name": "ipython",
    "version": 3
   },
   "file_extension": ".py",
   "mimetype": "text/x-python",
   "name": "python",
   "nbconvert_exporter": "python",
   "pygments_lexer": "ipython3",
   "version": "3.9.12"
  }
 },
 "nbformat": 4,
 "nbformat_minor": 5
}
