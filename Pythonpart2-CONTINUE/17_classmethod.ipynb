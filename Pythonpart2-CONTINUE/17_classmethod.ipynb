{
 "cells": [
  {
   "cell_type": "markdown",
   "id": "46022a8d",
   "metadata": {},
   "source": [
    "# CLASS METHOD"
   ]
  },
  {
   "cell_type": "raw",
   "id": "6dae7d59",
   "metadata": {},
   "source": [
    "### Dt-27/12/22 ###\n",
    " (1)If u want to class level variable(static variable) go for class method.\n",
    " (2) The first argument of the class method is cls\n",
    " (3) @classmethod decorator we have to write before class method\n",
    " (4) we can call class method inside another class method\n",
    " (5)Inside the class we can call class method using class name and outside of     the class we can call through the class name or object reference\n",
    " (6)By using classs method we can perform various operations like modify,delte   etc."
   ]
  },
  {
   "cell_type": "code",
   "execution_count": 7,
   "id": "c1c57e31",
   "metadata": {},
   "outputs": [
    {
     "name": "stdout",
     "output_type": "stream",
     "text": [
      "college name is ABC clg\n",
      "principal name is Dr Chand\n",
      "2737825060640\n",
      "2737825060640\n",
      "---------\n",
      "college name is ABC clg\n",
      "principal name is Dr Chand\n",
      "2737825060640\n",
      "2737825060640\n"
     ]
    }
   ],
   "source": [
    "# Example-1\n",
    "class Student:\n",
    "    college='ABC clg'\n",
    "    principal='Dr Chand'\n",
    "    \n",
    "    @classmethod\n",
    "    \n",
    "    def cm(cls):\n",
    "        print(f'college name is {cls.college}')\n",
    "        print(f'principal name is {cls.principal}')\n",
    "        print(id(cls))\n",
    "        print(id(Student))\n",
    "#cls and Student both are pointing to same memory location\n",
    "#Difference between cld and student class, Student is global variable so it will note destroy but cls will destroy from the memory once classmethod execution completed\n",
    "\n",
    "Student.cm()\n",
    "\n",
    "# we can call like this through object reference\n",
    "s1=Student()\n",
    "print('---------')\n",
    "s1.cm()"
   ]
  },
  {
   "cell_type": "code",
   "execution_count": null,
   "id": "fc3f8f8b",
   "metadata": {},
   "outputs": [],
   "source": [
    "# class method will note execute automatically"
   ]
  },
  {
   "cell_type": "code",
   "execution_count": 12,
   "id": "3b0d33a2",
   "metadata": {},
   "outputs": [
    {
     "name": "stdout",
     "output_type": "stream",
     "text": [
      "college name is ABC clg\n",
      "college name is ABC university\n",
      "{'__module__': '__main__', 'college': 'ABC university', 'principal': 'Dr Chand', 'cm': <classmethod object at 0x000002AAE2A01BB0>, 'modify': <classmethod object at 0x000002AAE2A013A0>, 'dlt': <classmethod object at 0x000002AAE2A016D0>, 'create': <classmethod object at 0x000002AAE2A01D90>, '__dict__': <attribute '__dict__' of 'Student' objects>, '__weakref__': <attribute '__weakref__' of 'Student' objects>, '__doc__': None}\n",
      "-------\n"
     ]
    }
   ],
   "source": [
    "# modificaton\n",
    "class Student:\n",
    "    college='ABC clg'\n",
    "    principal='Dr Chand'\n",
    "    \n",
    "    @classmethod \n",
    "    def cm(cls):\n",
    "        print(f'college name is {cls.college}')\n",
    "        \n",
    "    @classmethod\n",
    "    def modify(cls):\n",
    "        cls.college='ABC university'\n",
    "    \n",
    "    @classmethod\n",
    "    def dlt(cls):\n",
    "        del cls.college\n",
    "        \n",
    "    @classmethod\n",
    "    def create(cls):\n",
    "        cls.address='BBSR'\n",
    "        \n",
    "Student.cm()\n",
    "Student.modify()\n",
    "        \n",
    "Student.cm()\n",
    "print(Student.__dict__)\n",
    "Student.dlt()\n",
    "print('-------')\n",
    "Student.create()\n",
    "\n"
   ]
  },
  {
   "cell_type": "code",
   "execution_count": 13,
   "id": "7ee06fba",
   "metadata": {},
   "outputs": [
    {
     "name": "stdout",
     "output_type": "stream",
     "text": [
      "{'__module__': '__main__', 'principal': 'Dr Chand', 'cm': <classmethod object at 0x000002AAE2A01BB0>, 'modify': <classmethod object at 0x000002AAE2A013A0>, 'dlt': <classmethod object at 0x000002AAE2A016D0>, 'create': <classmethod object at 0x000002AAE2A01D90>, '__dict__': <attribute '__dict__' of 'Student' objects>, '__weakref__': <attribute '__weakref__' of 'Student' objects>, '__doc__': None, 'address': 'BBSR'}\n"
     ]
    }
   ],
   "source": [
    "print(Student.__dict__)"
   ]
  },
  {
   "cell_type": "markdown",
   "id": "e98ca023",
   "metadata": {},
   "source": [
    "## we can call class method inside another class method"
   ]
  },
  {
   "cell_type": "code",
   "execution_count": 18,
   "id": "0f546902",
   "metadata": {},
   "outputs": [
    {
     "name": "stdout",
     "output_type": "stream",
     "text": [
      "{'__module__': '__main__', 'college': 'ABC clg', 'principal': 'Dr Chand', 'cm': <classmethod object at 0x000002AAE17607C0>, 'dlt': <classmethod object at 0x000002AAE17603A0>, '__dict__': <attribute '__dict__' of 'Student' objects>, '__weakref__': <attribute '__weakref__' of 'Student' objects>, '__doc__': None}\n",
      "\n",
      "\n",
      "college name is ABC clg\n",
      "\n",
      "\n",
      "{'__module__': '__main__', 'principal': 'Dr Chand', 'cm': <classmethod object at 0x000002AAE17607C0>, 'dlt': <classmethod object at 0x000002AAE17603A0>, '__dict__': <attribute '__dict__' of 'Student' objects>, '__weakref__': <attribute '__weakref__' of 'Student' objects>, '__doc__': None}\n"
     ]
    }
   ],
   "source": [
    "class Student:\n",
    "    college='ABC clg'\n",
    "    principal='Dr Chand'\n",
    "    \n",
    "    @classmethod \n",
    "    def cm(cls):\n",
    "        print(f'college name is {cls.college}')\n",
    "        Student.dlt() \n",
    "    @classmethod\n",
    "    def dlt(cls):\n",
    "        del cls.college\n",
    "      \n",
    "    \n",
    "print(Student.__dict__)\n",
    "print('\\n')\n",
    "Student.cm()\n",
    "print('\\n')\n",
    "print(Student.__dict__)"
   ]
  }
 ],
 "metadata": {
  "kernelspec": {
   "display_name": "Python 3 (ipykernel)",
   "language": "python",
   "name": "python3"
  },
  "language_info": {
   "codemirror_mode": {
    "name": "ipython",
    "version": 3
   },
   "file_extension": ".py",
   "mimetype": "text/x-python",
   "name": "python",
   "nbconvert_exporter": "python",
   "pygments_lexer": "ipython3",
   "version": "3.9.12"
  }
 },
 "nbformat": 4,
 "nbformat_minor": 5
}
