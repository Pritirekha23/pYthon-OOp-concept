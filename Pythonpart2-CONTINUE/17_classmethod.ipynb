{
 "cells": [
  {
   "cell_type": "markdown",
   "id": "8c719eef",
   "metadata": {},
   "source": [
    "# CLASS METHOD"
   ]
  },
  {
   "cell_type": "raw",
   "id": "8f29c52b",
   "metadata": {},
   "source": [
    " (1)If u want to class level variable(static variable) go for class method.\n",
    " (2) The first argument of the class method is cls\n",
    " (3) @classmethod decorator we have to write before class method\n",
    " (4) we can call class method inside another class method\n",
    " (5)Inside the class we can call class method using class name and outside of the class we can xall through the class name or object reference\n",
    " (6)By using classs method we can perform various operations like modify,delte etc."
   ]
  },
  {
   "cell_type": "code",
   "execution_count": null,
   "id": "e82a721c",
   "metadata": {},
   "outputs": [],
   "source": []
  },
  {
   "cell_type": "code",
   "execution_count": null,
   "id": "28582a4a",
   "metadata": {},
   "outputs": [],
   "source": []
  },
  {
   "cell_type": "code",
   "execution_count": null,
   "id": "c10f8b6b",
   "metadata": {},
   "outputs": [],
   "source": []
  }
 ],
 "metadata": {
  "kernelspec": {
   "display_name": "Python 3 (ipykernel)",
   "language": "python",
   "name": "python3"
  },
  "language_info": {
   "codemirror_mode": {
    "name": "ipython",
    "version": 3
   },
   "file_extension": ".py",
   "mimetype": "text/x-python",
   "name": "python",
   "nbconvert_exporter": "python",
   "pygments_lexer": "ipython3",
   "version": "3.9.12"
  }
 },
 "nbformat": 4,
 "nbformat_minor": 5
}
