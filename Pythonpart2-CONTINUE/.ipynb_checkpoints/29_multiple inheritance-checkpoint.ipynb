{
 "cells": [
  {
   "cell_type": "code",
   "execution_count": null,
   "id": "8159feb7",
   "metadata": {},
   "outputs": [],
   "source": [
    "#dt-19 jan 2023"
   ]
  },
  {
   "cell_type": "markdown",
   "id": "0093c17e",
   "metadata": {},
   "source": [
    "# MULTIPLE INHERITANCE"
   ]
  },
  {
   "cell_type": "markdown",
   "id": "f1eb9c45",
   "metadata": {},
   "source": [
    "->In multiple inheritance we deal with at least 3 classes.\n",
    "->here one class is derived from multiple class.\n",
    "->it means one child having multiple parents.\n"
   ]
  },
  {
   "cell_type": "code",
   "execution_count": 3,
   "id": "0b84dcf4",
   "metadata": {},
   "outputs": [
    {
     "name": "stdout",
     "output_type": "stream",
     "text": [
      "parent class method1\n",
      "parent class method2\n",
      "parent class method3\n",
      "parent class method4\n",
      "child class method5\n",
      "child class method6\n"
     ]
    }
   ],
   "source": [
    "#ex-1\n",
    "class A:\n",
    "    def method1(self):\n",
    "        print('parent class method1')\n",
    "    def method2(self):\n",
    "        print('parent class method2')\n",
    "        \n",
    "class B:\n",
    "    def method3(self):\n",
    "        print('parent class method3')\n",
    "    def method4(self):\n",
    "        print('parent class method4')\n",
    "        \n",
    "class C(A,B):\n",
    "    def method5(self):\n",
    "        print('child class method5')\n",
    "    def method6(self):\n",
    "        print('child class method6')\n",
    "        \n",
    "c=C()\n",
    "c.method1()\n",
    "c.method2()\n",
    "c.method3()\n",
    "c.method4()\n",
    "c.method5()\n",
    "c.method6()\n"
   ]
  },
  {
   "cell_type": "code",
   "execution_count": null,
   "id": "18bead48",
   "metadata": {},
   "outputs": [],
   "source": [
    "#ex-2\n",
    "\n",
    "class A:\n",
    "    def method1(self):\n",
    "        print('parent class method1')\n",
    "    def method2(self):\n",
    "        print('parent class method2')\n",
    "        \n",
    "class B:\n",
    "    def method1(self):\n",
    "        print('parent class method3')\n",
    "    def method4(self):\n",
    "        print('parent class method4')\n",
    "        \n",
    "class C(A,B):\n",
    "    def method5(self):\n",
    "        print('child class method5')\n",
    "    def method6(self):\n",
    "        print('child class method6')\n",
    "        \n",
    "c=C()\n",
    "c.method1()\n",
    "c.method2()\n",
    "c.method3()\n",
    "c.method4()\n",
    "c.method5()\n",
    "c.method6()\n",
    "\n",
    "\n",
    "\n",
    "\n",
    "\n",
    "\n",
    "\n",
    "\n",
    "\n",
    "\n",
    "\n",
    "\n",
    "\n",
    "\n",
    "\n",
    "\n",
    "\n",
    "\n",
    "\n",
    "\n",
    "\n",
    "\n",
    "\n",
    "\n",
    "\n"
   ]
  },
  {
   "cell_type": "code",
   "execution_count": null,
   "id": "ac4f0089",
   "metadata": {},
   "outputs": [],
   "source": []
  },
  {
   "cell_type": "code",
   "execution_count": null,
   "id": "07d960ae",
   "metadata": {},
   "outputs": [],
   "source": []
  }
 ],
 "metadata": {
  "kernelspec": {
   "display_name": "Python 3 (ipykernel)",
   "language": "python",
   "name": "python3"
  },
  "language_info": {
   "codemirror_mode": {
    "name": "ipython",
    "version": 3
   },
   "file_extension": ".py",
   "mimetype": "text/x-python",
   "name": "python",
   "nbconvert_exporter": "python",
   "pygments_lexer": "ipython3",
   "version": "3.9.12"
  }
 },
 "nbformat": 4,
 "nbformat_minor": 5
}
