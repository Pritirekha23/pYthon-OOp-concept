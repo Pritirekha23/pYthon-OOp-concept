{
 "cells": [
  {
   "cell_type": "markdown",
   "id": "75528c3d",
   "metadata": {},
   "source": [
    "# Relationship b/w classes (Has-A Relationship)"
   ]
  },
  {
   "cell_type": "markdown",
   "id": "c7b2b6fd",
   "metadata": {},
   "source": [
    "Dt-12/01/23\n",
    "What is the requirement of relationship?\n",
    "-->It is used to access the members of one class inside another class.\n",
    "-->advantages is code reusability.\n",
    "\n",
    "Types of relationship:-\n",
    "(a) HAS-A relationship(Also known as Composition)\n",
    "(b) IS-A Relationship(Also known as Inheritance)"
   ]
  },
  {
   "cell_type": "markdown",
   "id": "88aadd89",
   "metadata": {},
   "source": [
    "# (a) HAS-A relationship"
   ]
  },
  {
   "cell_type": "markdown",
   "id": "058221b2",
   "metadata": {},
   "source": [
    "->HAS-A relationship is also known as Composition or Containership or Complex Objects.\n",
    "->In HAS-A relationship we build object from smaller objects.\n",
    "->If there is no university then there is no department and vice versa this is known as strong relationship."
   ]
  },
  {
   "cell_type": "code",
   "execution_count": 2,
   "id": "6ae5da84",
   "metadata": {},
   "outputs": [
    {
     "name": "stdout",
     "output_type": "stream",
     "text": [
      "Employee name is Priyanka\n",
      "Employee id is 10245\n",
      "Employee address is Cuttack\n",
      "Car name is Thar\n",
      "Car color is Black\n",
      "Car price is 1800000\n"
     ]
    }
   ],
   "source": [
    "# example-1\n",
    "class Car:\n",
    "    def __init__(self,cname,ccolor,cprice):\n",
    "        self.cname=cname\n",
    "        self.ccolor=ccolor\n",
    "        self.cprice=cprice\n",
    "        \n",
    "    def printcardetails(self):\n",
    "        print(f'Car name is {self.cname}')\n",
    "        print(f'Car color is {self.ccolor}')\n",
    "        print(f'Car price is {self.cprice}')\n",
    "\n",
    "\n",
    "class Emp:\n",
    "    def __init__(self,ename,eid,eaddress):\n",
    "        self.ename=ename\n",
    "        self.eid=eid\n",
    "        self.eaddress=eaddress\n",
    "        #object creation of car class inside emp class\n",
    "        self.c=Car('Thar','Black',1800000)\n",
    "        \n",
    "        \n",
    "    def printempdetails(self):\n",
    "        print(f'Employee name is {self.ename}')\n",
    "        print(f'Employee id is {self.eid}')\n",
    "        print(f'Employee address is {self.eaddress}')\n",
    "        self.c.printcardetails()\n",
    "        \n",
    "e=Emp('Priyanka',10245,'Cuttack')\n",
    "e.printempdetails()"
   ]
  },
  {
   "cell_type": "code",
   "execution_count": 5,
   "id": "f9eaf82f",
   "metadata": {},
   "outputs": [
    {
     "name": "stdout",
     "output_type": "stream",
     "text": [
      "Employee name is Priyanka\n",
      "Employee id is 10245\n",
      "Employee address is Cuttack\n",
      "Car name is Thar\n",
      "Car color is Black\n",
      "Car price is 1800000\n",
      "Laptop name is Asus\n",
      "Laptop color is Black\n",
      "Laptop price is 37000\n"
     ]
    }
   ],
   "source": [
    "# example-2\n",
    "class Car:\n",
    "    def __init__(self,cname,ccolor,cprice):\n",
    "        self.cname=cname\n",
    "        self.ccolor=ccolor\n",
    "        self.cprice=cprice\n",
    "        \n",
    "    def printcardetails(self):\n",
    "        print(f'Car name is {self.cname}')\n",
    "        print(f'Car color is {self.ccolor}')\n",
    "        print(f'Car price is {self.cprice}')\n",
    "\n",
    "class Laptop:\n",
    "    def __init__(self,lname,lcolor,lprice):\n",
    "        self.lname=lname\n",
    "        self.lcolor=lcolor\n",
    "        self.lprice=lprice\n",
    "    \n",
    "    def printlaptopdetails(self):\n",
    "        print(f'Laptop name is {self.lname}')\n",
    "        print(f'Laptop color is {self.lcolor}')\n",
    "        print(f'Laptop price is {self.lprice}')\n",
    "\n",
    "        \n",
    "class Emp:\n",
    "    def __init__(self,ename,eid,eaddress):\n",
    "        self.ename=ename\n",
    "        self.eid=eid\n",
    "        self.eaddress=eaddress\n",
    "        #object creation of car class inside emp class\n",
    "        self.c=Car('Thar','Black',1800000)\n",
    "        #object creation of laptop classs\n",
    "        self.l=Laptop('Asus','Black',37000)\n",
    "        \n",
    "    def printempdetails(self):\n",
    "        print(f'Employee name is {self.ename}')\n",
    "        print(f'Employee id is {self.eid}')\n",
    "        print(f'Employee address is {self.eaddress}')\n",
    "        self.c.printcardetails()\n",
    "        self.l.printlaptopdetails()\n",
    "        \n",
    "e=Emp('Priyanka',10245,'Cuttack')\n",
    "e.printempdetails()\n"
   ]
  },
  {
   "cell_type": "markdown",
   "id": "eec2ecef",
   "metadata": {},
   "source": [
    "NOTE:\n",
    "   Without existance of container object there is no existance of contained object\n",
    "   \n",
    "   ex- here if Emp object is not existed then there is no chance of existance of car and laptop object. "
   ]
  },
  {
   "cell_type": "code",
   "execution_count": 9,
   "id": "a519777d",
   "metadata": {},
   "outputs": [
    {
     "name": "stdout",
     "output_type": "stream",
     "text": [
      "University name is BPUT\n",
      "University id is 19999\n",
      "Department name is CSE\n",
      "Did is 2001\n",
      "Department name is ME\n",
      "Did is 2003\n",
      "Department name is ECE\n",
      "Did is 2004\n"
     ]
    }
   ],
   "source": [
    "#Example-3\n",
    "\n",
    "class Dept:\n",
    "    def __init__(self,dname,did):\n",
    "        self.dname=dname\n",
    "        self.did=did\n",
    "        \n",
    "    def printDeptdetails(self):\n",
    "        print(f'Department name is {self.dname}')\n",
    "        print(f'Did is {self.did}')\n",
    "        \n",
    "        \n",
    "class University:\n",
    "    def __init__(self,uname,uid):\n",
    "        self.uname=uname\n",
    "        self.uid=uid\n",
    "        self.d=Dept('CSE',2001)\n",
    "        self.d1=Dept('ECE',2002)\n",
    "        self.d2=Dept('ME',2003)\n",
    "        self.d3=Dept('ECE',2004)\n",
    "        \n",
    "    def printUnidetails(self):\n",
    "        print(f'University name is {self.uname}')\n",
    "        print(f'University id is {self.uid}')\n",
    "        # HAS-A relationship\n",
    "        self.d.printDeptdetails()\n",
    "        self.d1.printDeptdetails\n",
    "        self.d2.printDeptdetails()\n",
    "        self.d3.printDeptdetails()\n",
    "        \n",
    "        \n",
    "\n",
    "u=University('BPUT',19999)\n",
    "u.printUnidetails()\n"
   ]
  },
  {
   "cell_type": "code",
   "execution_count": null,
   "id": "253daadf",
   "metadata": {},
   "outputs": [],
   "source": []
  }
 ],
 "metadata": {
  "kernelspec": {
   "display_name": "Python 3 (ipykernel)",
   "language": "python",
   "name": "python3"
  },
  "language_info": {
   "codemirror_mode": {
    "name": "ipython",
    "version": 3
   },
   "file_extension": ".py",
   "mimetype": "text/x-python",
   "name": "python",
   "nbconvert_exporter": "python",
   "pygments_lexer": "ipython3",
   "version": "3.9.12"
  }
 },
 "nbformat": 4,
 "nbformat_minor": 5
}
