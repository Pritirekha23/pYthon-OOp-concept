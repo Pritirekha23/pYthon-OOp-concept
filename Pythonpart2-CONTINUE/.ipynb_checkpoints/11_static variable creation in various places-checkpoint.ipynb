{
 "cells": [
  {
   "cell_type": "markdown",
   "id": "2e8e74d1",
   "metadata": {},
   "source": [
    "# Static variable creation in various places."
   ]
  },
  {
   "cell_type": "code",
   "execution_count": null,
   "id": "c2952011",
   "metadata": {},
   "outputs": [],
   "source": [
    "  # There are 6 different places we can create static variable.\n",
    "   #1) Inside class directly\n",
    "   #2) Outside of the class\n",
    "   #3) Inside Constructor\n",
    "   #4) Inside instance method\n",
    "   #5) Inside class method\n",
    "   #6) Inside Static method"
   ]
  },
  {
   "cell_type": "markdown",
   "id": "031e950c",
   "metadata": {},
   "source": [
    "### Already I have done 3 ways In vs code 10_static variable creation in various places and here i will do rest of the codes"
   ]
  },
  {
   "cell_type": "code",
   "execution_count": null,
   "id": "8ed72024",
   "metadata": {},
   "outputs": [],
   "source": []
  },
  {
   "cell_type": "code",
   "execution_count": null,
   "id": "f41cebf5",
   "metadata": {},
   "outputs": [],
   "source": []
  },
  {
   "cell_type": "code",
   "execution_count": null,
   "id": "b788f720",
   "metadata": {},
   "outputs": [],
   "source": []
  },
  {
   "cell_type": "code",
   "execution_count": null,
   "id": "04c2e82e",
   "metadata": {},
   "outputs": [],
   "source": []
  },
  {
   "cell_type": "code",
   "execution_count": null,
   "id": "e7313614",
   "metadata": {},
   "outputs": [],
   "source": []
  }
 ],
 "metadata": {
  "kernelspec": {
   "display_name": "Python 3 (ipykernel)",
   "language": "python",
   "name": "python3"
  },
  "language_info": {
   "codemirror_mode": {
    "name": "ipython",
    "version": 3
   },
   "file_extension": ".py",
   "mimetype": "text/x-python",
   "name": "python",
   "nbconvert_exporter": "python",
   "pygments_lexer": "ipython3",
   "version": "3.9.12"
  }
 },
 "nbformat": 4,
 "nbformat_minor": 5
}
