{
 "cells": [
  {
   "cell_type": "markdown",
   "id": "9ca2aaef",
   "metadata": {},
   "source": [
    "# passing members of one class to another class"
   ]
  },
  {
   "cell_type": "code",
   "execution_count": 19,
   "id": "73eeb267",
   "metadata": {},
   "outputs": [
    {
     "name": "stdout",
     "output_type": "stream",
     "text": [
      "-------STUDENT INFORMATION------\n",
      "Name is Priyanka\n",
      "Age is 24 \n",
      "Roll is  1024344454\n",
      "Address is  Bhubaneswara\n"
     ]
    }
   ],
   "source": [
    "class Student:\n",
    "    def __init__(self,name,age,roll,address):\n",
    "        self.name=name\n",
    "        self.age=age\n",
    "        self.roll=roll\n",
    "        self.address=address\n",
    "        \n",
    "    def printdetails(self):\n",
    "        print('-------STUDENT INFORMATION------')\n",
    "        print(f'Name is {self.name}')\n",
    "        print(f'Age is {self.age} ')\n",
    "        print(f'Roll is  {self.roll}')\n",
    "        print(f'Address is  {self.address}')\n",
    "        \n",
    "class Normal:\n",
    "    @staticmethod\n",
    "    def modify(r):\n",
    "        r.address='Cuttack'\n",
    "    \n",
    "s1=Student('Priyanka',24,1024344454,'Bhubaneswara')\n",
    "s1.printdetails()\n",
    "\n"
   ]
  },
  {
   "cell_type": "code",
   "execution_count": null,
   "id": "f9c2532e",
   "metadata": {},
   "outputs": [],
   "source": []
  },
  {
   "cell_type": "code",
   "execution_count": null,
   "id": "ad7b829a",
   "metadata": {},
   "outputs": [],
   "source": []
  },
  {
   "cell_type": "code",
   "execution_count": null,
   "id": "5f321726",
   "metadata": {},
   "outputs": [],
   "source": []
  },
  {
   "cell_type": "code",
   "execution_count": null,
   "id": "5feddc16",
   "metadata": {},
   "outputs": [],
   "source": []
  }
 ],
 "metadata": {
  "kernelspec": {
   "display_name": "Python 3 (ipykernel)",
   "language": "python",
   "name": "python3"
  },
  "language_info": {
   "codemirror_mode": {
    "name": "ipython",
    "version": 3
   },
   "file_extension": ".py",
   "mimetype": "text/x-python",
   "name": "python",
   "nbconvert_exporter": "python",
   "pygments_lexer": "ipython3",
   "version": "3.9.12"
  }
 },
 "nbformat": 4,
 "nbformat_minor": 5
}
