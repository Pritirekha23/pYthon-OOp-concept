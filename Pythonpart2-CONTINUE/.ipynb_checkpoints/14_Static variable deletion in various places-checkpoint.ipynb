{
 "cells": [
  {
   "cell_type": "markdown",
   "id": "0fe01aa3",
   "metadata": {},
   "source": [
    "# Static variable deletion in various places"
   ]
  },
  {
   "cell_type": "raw",
   "id": "bc523659",
   "metadata": {},
   "source": [
    "dt-25/12/2022\n",
    "In 5 places we can delete static variable\n",
    "\n",
    "#1] Outside of the class\n",
    "#2] Inside Constructor\n",
    "#3] Inside Instance method\n",
    "#4] Inside class method\n",
    "#5] Inside static method"
   ]
  },
  {
   "cell_type": "markdown",
   "id": "08e852ab",
   "metadata": {},
   "source": [
    "## 1] Outside of the class"
   ]
  },
  {
   "cell_type": "code",
   "execution_count": 40,
   "id": "bda37d55",
   "metadata": {},
   "outputs": [
    {
     "name": "stdout",
     "output_type": "stream",
     "text": [
      "-----------------Before deleting principal name-----------------------\n",
      "{'__module__': '__main__', 'clg': 'ABC college', 'Principal_name': 'Dr. Chand', '__dict__': <attribute '__dict__' of 'Student' objects>, '__weakref__': <attribute '__weakref__' of 'Student' objects>, '__doc__': None}\n",
      "\n",
      "-----------------After deleting principal name----------------\n",
      "\n",
      "{'__module__': '__main__', 'clg': 'ABC college', '__dict__': <attribute '__dict__' of 'Student' objects>, '__weakref__': <attribute '__weakref__' of 'Student' objects>, '__doc__': None}\n"
     ]
    }
   ],
   "source": [
    "# By using class name\n",
    "class Student:\n",
    "    clg='ABC college'\n",
    "    Principal_name='Dr. Chand'\n",
    "print('-----------------Before deleting principal name-----------------------')\n",
    "print(Student.__dict__) # It will give two static variable one is clg and another is principal_name\n",
    "\n",
    "# delete principa_name variable\n",
    "del Student.Principal_name\n",
    "print('\\n-----------------After deleting principal name----------------\\n')\n",
    "print(Student.__dict__) # It will give one static variable that is clg"
   ]
  },
  {
   "cell_type": "markdown",
   "id": "e072a15f",
   "metadata": {},
   "source": [
    "## 2] Inside Constructor"
   ]
  },
  {
   "cell_type": "code",
   "execution_count": 37,
   "id": "60b66f2b",
   "metadata": {},
   "outputs": [
    {
     "name": "stdout",
     "output_type": "stream",
     "text": [
      "{'__module__': '__main__', 'clg': 'ABC college', 'Principal_name': 'Dr. Chand', '__init__': <function Student.__init__ at 0x000002CEA36B3820>, '__dict__': <attribute '__dict__' of 'Student' objects>, '__weakref__': <attribute '__weakref__' of 'Student' objects>, '__doc__': None}\n",
      "\n",
      "---------------After deletion--------------\n",
      "\n",
      "{'__module__': '__main__', '__init__': <function Student.__init__ at 0x000002CEA36B3820>, '__dict__': <attribute '__dict__' of 'Student' objects>, '__weakref__': <attribute '__weakref__' of 'Student' objects>, '__doc__': None}\n"
     ]
    }
   ],
   "source": [
    "class Student:\n",
    "    clg='ABC college'\n",
    "    Principal_name='Dr. Chand'\n",
    "    \n",
    "    def __init__(self):\n",
    "       # del Student.clg\n",
    "       # del Student.Principal_name\n",
    "        del Student.Principal_name,Student.clg # deleting multiple variables in a single line\n",
    "print(Student.__dict__)\n",
    "s1=Student() \n",
    "print('\\n---------------After deletion--------------\\n')\n",
    "print(Student.__dict__)"
   ]
  },
  {
   "cell_type": "markdown",
   "id": "5b320f7b",
   "metadata": {},
   "source": [
    "## 3] Inside Instance method"
   ]
  },
  {
   "cell_type": "code",
   "execution_count": 45,
   "id": "1e20fbb2",
   "metadata": {},
   "outputs": [
    {
     "name": "stdout",
     "output_type": "stream",
     "text": [
      "\n",
      "------------before deletiong-----------\n",
      "\n",
      "{'__module__': '__main__', 'clg': 'XYZZ college', 'Principal_name': 'Dr. Raman', 'dlt': <function Student.dlt at 0x000002CEA36D2550>, '__dict__': <attribute '__dict__' of 'Student' objects>, '__weakref__': <attribute '__weakref__' of 'Student' objects>, '__doc__': None}\n",
      "\n",
      "------------Afterdeletiong-----------\n",
      "\n",
      "{'__module__': '__main__', 'clg': 'XYZZ college', 'dlt': <function Student.dlt at 0x000002CEA36D2550>, '__dict__': <attribute '__dict__' of 'Student' objects>, '__weakref__': <attribute '__weakref__' of 'Student' objects>, '__doc__': None}\n"
     ]
    }
   ],
   "source": [
    "# using class name\n",
    "class Student:\n",
    "    clg=\"XYZZ college\"\n",
    "    Principal_name='Dr. Raman'\n",
    "    \n",
    "    def dlt(self):\n",
    "        del Student.Principal_name\n",
    "        \n",
    "print('\\n------------before deletiong-----------\\n' )        \n",
    "print(Student.__dict__) # It will give two static variable that is clg and Principal_name\n",
    "s1=Student()\n",
    "s1.dlt()\n",
    "print('\\n------------After deletiong-----------\\n' ) \n",
    "print(Student.__dict__) # It will give only one static variable that is clg"
   ]
  },
  {
   "cell_type": "markdown",
   "id": "75958448",
   "metadata": {},
   "source": [
    "## 4] Inside class method"
   ]
  },
  {
   "cell_type": "code",
   "execution_count": 66,
   "id": "ed8cc153",
   "metadata": {},
   "outputs": [
    {
     "name": "stdout",
     "output_type": "stream",
     "text": [
      "\n",
      "------------before deletiong-----------\n",
      "\n",
      "{'__module__': '__main__', 'college': 'OPQ clg', 'Principal_name': 'Dr Armaan', 'cm': <classmethod object at 0x000002CEA2C0E940>, '__dict__': <attribute '__dict__' of 'Student' objects>, '__weakref__': <attribute '__weakref__' of 'Student' objects>, '__doc__': None}\n",
      "\n",
      "------------After deletiong-----------\n",
      "\n",
      "{'__module__': '__main__', 'Principal_name': 'Dr Armaan', 'cm': <classmethod object at 0x000002CEA2C0E940>, '__dict__': <attribute '__dict__' of 'Student' objects>, '__weakref__': <attribute '__weakref__' of 'Student' objects>, '__doc__': None}\n"
     ]
    }
   ],
   "source": [
    "# using class name\n",
    "class Student:\n",
    "    college='OPQ clg'\n",
    "    Principal_name='Dr Armaan'\n",
    "    \n",
    "    @classmethod\n",
    "     \n",
    "    def cm(cls):\n",
    "        del Student.college\n",
    "print('\\n------------before deletiong-----------\\n' )        \n",
    "print(Student.__dict__)\n",
    "#s1=Student() \n",
    "#s1.cm() \n",
    "Student.cm()\n",
    "print('\\n------------After deletiong-----------\\n' )        \n",
    "print(Student.__dict__)"
   ]
  },
  {
   "cell_type": "code",
   "execution_count": 57,
   "id": "75578051",
   "metadata": {},
   "outputs": [
    {
     "name": "stdout",
     "output_type": "stream",
     "text": [
      "\n",
      "------------before deletiong-----------\n",
      "\n",
      "{'__module__': '__main__', 'college': 'OPQ clg', 'Principal_name': 'Dr Armaan', 'cm': <classmethod object at 0x000002CEA2BFF940>, '__dict__': <attribute '__dict__' of 'Student' objects>, '__weakref__': <attribute '__weakref__' of 'Student' objects>, '__doc__': None}\n",
      "\n",
      "------------After deletiong-----------\n",
      "\n",
      "{'__module__': '__main__', 'Principal_name': 'Dr Armaan', 'cm': <classmethod object at 0x000002CEA2BFF940>, '__dict__': <attribute '__dict__' of 'Student' objects>, '__weakref__': <attribute '__weakref__' of 'Student' objects>, '__doc__': None}\n"
     ]
    }
   ],
   "source": [
    "# using cls variable\n",
    "class Student:\n",
    "    college='OPQ clg'\n",
    "    Principal_name='Dr Armaan'\n",
    "    \n",
    "    @classmethod\n",
    "     \n",
    "    def cm(cls):\n",
    "        del cls.college\n",
    "print('\\n------------before deletiong-----------\\n' )        \n",
    "print(Student.__dict__)\n",
    "Student.cm()\n",
    "print('\\n------------After deletiong-----------\\n' )        \n",
    "print(Student.__dict__)"
   ]
  },
  {
   "cell_type": "markdown",
   "id": "4963c142",
   "metadata": {},
   "source": [
    "## 5] Inside static method"
   ]
  },
  {
   "cell_type": "code",
   "execution_count": 67,
   "id": "8d886514",
   "metadata": {},
   "outputs": [
    {
     "name": "stdout",
     "output_type": "stream",
     "text": [
      "\n",
      "------------before deletiong-----------\n",
      "\n",
      "{'__module__': '__main__', 'college': 'OPQ clg', 'Principal_name': 'Dr Armaan', 'sm': <staticmethod object at 0x000002CEA2C35100>, '__dict__': <attribute '__dict__' of 'Student' objects>, '__weakref__': <attribute '__weakref__' of 'Student' objects>, '__doc__': None}\n",
      "\n",
      "------------After deletiong-----------\n",
      "\n",
      "{'__module__': '__main__', 'Principal_name': 'Dr Armaan', 'sm': <staticmethod object at 0x000002CEA2C35100>, '__dict__': <attribute '__dict__' of 'Student' objects>, '__weakref__': <attribute '__weakref__' of 'Student' objects>, '__doc__': None}\n"
     ]
    }
   ],
   "source": [
    "# using class name\n",
    "class Student:\n",
    "    college='OPQ clg'\n",
    "    Principal_name='Dr Armaan'\n",
    "    \n",
    "    @staticmethod\n",
    "     \n",
    "    def sm():\n",
    "        del Student.college\n",
    "print('\\n------------before deletiong-----------\\n' )        \n",
    "print(Student.__dict__)\n",
    "s1=Student() \n",
    "s1.sm()\n",
    "print('\\n------------After deletiong-----------\\n' )        \n",
    "print(Student.__dict__)"
   ]
  },
  {
   "cell_type": "code",
   "execution_count": null,
   "id": "cb16dc94",
   "metadata": {},
   "outputs": [],
   "source": []
  }
 ],
 "metadata": {
  "kernelspec": {
   "display_name": "Python 3 (ipykernel)",
   "language": "python",
   "name": "python3"
  },
  "language_info": {
   "codemirror_mode": {
    "name": "ipython",
    "version": 3
   },
   "file_extension": ".py",
   "mimetype": "text/x-python",
   "name": "python",
   "nbconvert_exporter": "python",
   "pygments_lexer": "ipython3",
   "version": "3.9.12"
  }
 },
 "nbformat": 4,
 "nbformat_minor": 5
}
