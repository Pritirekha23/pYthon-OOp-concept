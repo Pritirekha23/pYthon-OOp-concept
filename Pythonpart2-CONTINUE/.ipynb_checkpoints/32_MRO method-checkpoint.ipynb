{
 "cells": [
  {
   "cell_type": "markdown",
   "id": "6c9d7306",
   "metadata": {},
   "source": [
    "dt- 2 Feb 2023"
   ]
  },
  {
   "cell_type": "markdown",
   "id": "022126a0",
   "metadata": {},
   "source": [
    "# MRO(Method Resolution Order)-> C3 Linearization"
   ]
  },
  {
   "cell_type": "markdown",
   "id": "8f571225",
   "metadata": {},
   "source": [
    " Requirement of MRO:-\n",
    " This algorithm is used to solve the diamond problem in multiple inheritance."
   ]
  },
  {
   "cell_type": "code",
   "execution_count": null,
   "id": "2c6fdc7d",
   "metadata": {},
   "outputs": [],
   "source": []
  },
  {
   "cell_type": "code",
   "execution_count": 10,
   "id": "64dc8740",
   "metadata": {},
   "outputs": [],
   "source": [
    "# example:-\n",
    "class A:\n",
    "    pass\n",
    "class B(A):\n",
    "    pass\n",
    "class C(A):\n",
    "    pass\n",
    "class D(B):\n",
    "    pass\n",
    "class E(C):\n",
    "    pass\n",
    "class F(D,E):\n",
    "    pass\n",
    "    "
   ]
  },
  {
   "cell_type": "code",
   "execution_count": 11,
   "id": "d90c6dbe",
   "metadata": {},
   "outputs": [
    {
     "name": "stdout",
     "output_type": "stream",
     "text": [
      "(<class '__main__.A'>, <class 'object'>)\n"
     ]
    }
   ],
   "source": [
    "print(A.__mro__)"
   ]
  },
  {
   "cell_type": "code",
   "execution_count": 12,
   "id": "7c3793ec",
   "metadata": {},
   "outputs": [
    {
     "name": "stdout",
     "output_type": "stream",
     "text": [
      "(<class '__main__.B'>, <class '__main__.A'>, <class 'object'>)\n"
     ]
    }
   ],
   "source": [
    "print(B.__mro__)"
   ]
  },
  {
   "cell_type": "code",
   "execution_count": 13,
   "id": "87a4d28b",
   "metadata": {},
   "outputs": [
    {
     "name": "stdout",
     "output_type": "stream",
     "text": [
      "(<class '__main__.C'>, <class '__main__.A'>, <class 'object'>)\n"
     ]
    }
   ],
   "source": [
    "print(C.__mro__)"
   ]
  },
  {
   "cell_type": "code",
   "execution_count": 14,
   "id": "3477e8a3",
   "metadata": {},
   "outputs": [
    {
     "name": "stdout",
     "output_type": "stream",
     "text": [
      "(<class '__main__.D'>, <class '__main__.B'>, <class '__main__.A'>, <class 'object'>)\n"
     ]
    }
   ],
   "source": [
    "print(D.__mro__)"
   ]
  },
  {
   "cell_type": "code",
   "execution_count": 15,
   "id": "c39b597f",
   "metadata": {},
   "outputs": [
    {
     "name": "stdout",
     "output_type": "stream",
     "text": [
      "(<class '__main__.E'>, <class '__main__.C'>, <class '__main__.A'>, <class 'object'>)\n"
     ]
    }
   ],
   "source": [
    "print(E.__mro__)"
   ]
  },
  {
   "cell_type": "code",
   "execution_count": 16,
   "id": "060f80f7",
   "metadata": {},
   "outputs": [
    {
     "name": "stdout",
     "output_type": "stream",
     "text": [
      "(<class '__main__.F'>, <class '__main__.D'>, <class '__main__.B'>, <class '__main__.E'>, <class '__main__.C'>, <class '__main__.A'>, <class 'object'>)\n"
     ]
    }
   ],
   "source": [
    "print(F.__mro__)"
   ]
  },
  {
   "cell_type": "code",
   "execution_count": null,
   "id": "e71219fb",
   "metadata": {},
   "outputs": [],
   "source": []
  },
  {
   "cell_type": "code",
   "execution_count": 18,
   "id": "3a7b07b0",
   "metadata": {},
   "outputs": [],
   "source": [
    "# example:2-\n",
    "class A:\n",
    "    def m1(self):\n",
    "        print('A-M1')\n",
    "class B(A):\n",
    "    def m1(self):\n",
    "        print('B-M1')\n",
    "class C(A):\n",
    "    def m1(self):\n",
    "        print('C-M1')\n",
    "class D(B):\n",
    "    def m1(self):\n",
    "        print('D-M1')\n",
    "class E(C):\n",
    "    def m1(self):\n",
    "        print('E-M1')\n",
    "class F(D,E):\n",
    "    def m1(self):\n",
    "        print('F-M1')\n",
    "    "
   ]
  },
  {
   "cell_type": "code",
   "execution_count": 19,
   "id": "627483eb",
   "metadata": {},
   "outputs": [
    {
     "name": "stdout",
     "output_type": "stream",
     "text": [
      "F-M1\n"
     ]
    }
   ],
   "source": [
    "f=F()\n",
    "f.m1()"
   ]
  },
  {
   "cell_type": "code",
   "execution_count": 21,
   "id": "714ed790",
   "metadata": {},
   "outputs": [],
   "source": [
    "# example:3\n",
    "class A:\n",
    "    def m1(self):\n",
    "        print('A-M1')\n",
    "class B(A):\n",
    "    def m1(self):\n",
    "        print('B-M1')\n",
    "class C(A):\n",
    "    def m1(self):\n",
    "        print('C-M1')\n",
    "class D(B):\n",
    "    def m1(self):\n",
    "        print('D-M1')\n",
    "class E(C):\n",
    "    def m1(self):\n",
    "        print('E-M1')\n",
    "class F(D,E):\n",
    "    pass\n",
    "    "
   ]
  },
  {
   "cell_type": "code",
   "execution_count": 22,
   "id": "78d52433",
   "metadata": {},
   "outputs": [
    {
     "name": "stdout",
     "output_type": "stream",
     "text": [
      "D-M1\n"
     ]
    }
   ],
   "source": [
    "f=F()\n",
    "f.m1()"
   ]
  },
  {
   "cell_type": "code",
   "execution_count": 23,
   "id": "9f8f05e8",
   "metadata": {},
   "outputs": [],
   "source": [
    "# example:3\n",
    "class A:\n",
    "    def m1(self):\n",
    "        print('A-M1')\n",
    "class B(A):\n",
    "    pass\n",
    "class C(A):\n",
    "    def m1(self):\n",
    "        print('C-M1')\n",
    "class D(B):\n",
    "    def m1(self):\n",
    "        print('D-M1')\n",
    "class E(C):\n",
    "    def m1(self):\n",
    "        print('E-M1')\n",
    "class F(D,E):\n",
    "    pass\n",
    "    "
   ]
  },
  {
   "cell_type": "code",
   "execution_count": 24,
   "id": "c71a0916",
   "metadata": {},
   "outputs": [
    {
     "name": "stdout",
     "output_type": "stream",
     "text": [
      "D-M1\n"
     ]
    }
   ],
   "source": [
    "f=F()\n",
    "f.m1()"
   ]
  },
  {
   "cell_type": "code",
   "execution_count": 28,
   "id": "cf8511e6",
   "metadata": {},
   "outputs": [],
   "source": [
    "# example:4\n",
    "class A:\n",
    "    def m1(self):\n",
    "        print('A-M1')\n",
    "class B(A):\n",
    "    def m1(self):\n",
    "        print('b-M1')\n",
    "class C(A):\n",
    "    def m1(self):\n",
    "        print('C-M1')\n",
    "class D(B):\n",
    "    def m1(self):\n",
    "        print('D-M1')\n",
    "class E(C):\n",
    "    pass\n",
    "class F(D,E):\n",
    "    pass\n",
    "    "
   ]
  },
  {
   "cell_type": "code",
   "execution_count": 30,
   "id": "ad856e58",
   "metadata": {},
   "outputs": [
    {
     "name": "stdout",
     "output_type": "stream",
     "text": [
      "D-M1\n"
     ]
    }
   ],
   "source": [
    "f=F()\n",
    "f.m1()"
   ]
  },
  {
   "cell_type": "code",
   "execution_count": 33,
   "id": "83aae50c",
   "metadata": {},
   "outputs": [],
   "source": [
    "# example:4\n",
    "class A:\n",
    "    pass\n",
    "class B(A):\n",
    "    pass\n",
    "class C(A):\n",
    "    pass\n",
    "class D(B):\n",
    "    pass\n",
    "class E(C):\n",
    "    pass\n",
    "class F(D,E):\n",
    "    pass\n",
    "    "
   ]
  },
  {
   "cell_type": "code",
   "execution_count": 34,
   "id": "f204b345",
   "metadata": {},
   "outputs": [
    {
     "ename": "AttributeError",
     "evalue": "'F' object has no attribute 'm1'",
     "output_type": "error",
     "traceback": [
      "\u001b[1;31m--------------------------------------------------------------\u001b[0m",
      "\u001b[1;31mAttributeError\u001b[0m               Traceback (most recent call last)",
      "Input \u001b[1;32mIn [34]\u001b[0m, in \u001b[0;36m<cell line: 2>\u001b[1;34m()\u001b[0m\n\u001b[0;32m      1\u001b[0m f\u001b[38;5;241m=\u001b[39mF()\n\u001b[1;32m----> 2\u001b[0m \u001b[43mf\u001b[49m\u001b[38;5;241;43m.\u001b[39;49m\u001b[43mm1\u001b[49m()\n",
      "\u001b[1;31mAttributeError\u001b[0m: 'F' object has no attribute 'm1'"
     ]
    }
   ],
   "source": [
    "f=F()\n",
    "f.m1()"
   ]
  },
  {
   "cell_type": "code",
   "execution_count": 35,
   "id": "f85e8615",
   "metadata": {},
   "outputs": [],
   "source": [
    "#example\n",
    "\n",
    "\n",
    "class A:pass\n",
    "class B:pass\n",
    "class C(A):pass\n",
    "class D(A):pass\n",
    "class F(B):pass\n",
    "class G(B):pass\n",
    "class E(C,D,F):pass"
   ]
  },
  {
   "cell_type": "code",
   "execution_count": 36,
   "id": "d3943bae",
   "metadata": {},
   "outputs": [
    {
     "name": "stdout",
     "output_type": "stream",
     "text": [
      "(<class '__main__.E'>, <class '__main__.C'>, <class '__main__.D'>, <class '__main__.A'>, <class '__main__.F'>, <class '__main__.B'>, <class 'object'>)\n"
     ]
    }
   ],
   "source": [
    "print(E.__mro__)"
   ]
  },
  {
   "cell_type": "code",
   "execution_count": null,
   "id": "b4e2441f",
   "metadata": {},
   "outputs": [],
   "source": [
    "#ex---"
   ]
  },
  {
   "cell_type": "code",
   "execution_count": 38,
   "id": "ec9b1a45",
   "metadata": {},
   "outputs": [],
   "source": [
    "class C:pass\n",
    "class A:pass\n",
    "class B:pass\n",
    "class D:pass\n",
    "class E:pass\n",
    "class K1(C,A,B):pass\n",
    "class K3(A,D):pass\n",
    "class K2(B,D,E):pass\n",
    "class Z(K1,K3,K2):pass"
   ]
  },
  {
   "cell_type": "code",
   "execution_count": 39,
   "id": "fa13f352",
   "metadata": {},
   "outputs": [
    {
     "name": "stdout",
     "output_type": "stream",
     "text": [
      "(<class '__main__.C'>, <class 'object'>)\n"
     ]
    }
   ],
   "source": [
    "print(C.__mro__)"
   ]
  },
  {
   "cell_type": "code",
   "execution_count": 42,
   "id": "9189545f",
   "metadata": {},
   "outputs": [
    {
     "name": "stdout",
     "output_type": "stream",
     "text": [
      "(<class '__main__.A'>, <class 'object'>)\n"
     ]
    }
   ],
   "source": [
    "print(A.__mro__)"
   ]
  },
  {
   "cell_type": "code",
   "execution_count": 41,
   "id": "a89ad802",
   "metadata": {},
   "outputs": [
    {
     "name": "stdout",
     "output_type": "stream",
     "text": [
      "(<class '__main__.B'>, <class 'object'>)\n"
     ]
    }
   ],
   "source": [
    "print(B.__mro__)"
   ]
  },
  {
   "cell_type": "code",
   "execution_count": 40,
   "id": "abea68a4",
   "metadata": {},
   "outputs": [
    {
     "name": "stdout",
     "output_type": "stream",
     "text": [
      "(<class '__main__.D'>, <class 'object'>)\n"
     ]
    }
   ],
   "source": [
    "print(D.__mro__)"
   ]
  },
  {
   "cell_type": "code",
   "execution_count": 43,
   "id": "3d838d62",
   "metadata": {},
   "outputs": [
    {
     "name": "stdout",
     "output_type": "stream",
     "text": [
      "(<class '__main__.E'>, <class 'object'>)\n"
     ]
    }
   ],
   "source": [
    "print(E.__mro__)"
   ]
  },
  {
   "cell_type": "code",
   "execution_count": 44,
   "id": "fa4d14a1",
   "metadata": {},
   "outputs": [
    {
     "name": "stdout",
     "output_type": "stream",
     "text": [
      "(<class '__main__.K1'>, <class '__main__.C'>, <class '__main__.A'>, <class '__main__.B'>, <class 'object'>)\n"
     ]
    }
   ],
   "source": [
    "print(K1.__mro__)"
   ]
  },
  {
   "cell_type": "code",
   "execution_count": 45,
   "id": "9a17024d",
   "metadata": {},
   "outputs": [
    {
     "name": "stdout",
     "output_type": "stream",
     "text": [
      "(<class '__main__.K3'>, <class '__main__.A'>, <class '__main__.D'>, <class 'object'>)\n"
     ]
    }
   ],
   "source": [
    "print(K3.__mro__)"
   ]
  },
  {
   "cell_type": "code",
   "execution_count": 46,
   "id": "821c4753",
   "metadata": {},
   "outputs": [
    {
     "name": "stdout",
     "output_type": "stream",
     "text": [
      "(<class '__main__.K2'>, <class '__main__.B'>, <class '__main__.D'>, <class '__main__.E'>, <class 'object'>)\n"
     ]
    }
   ],
   "source": [
    "print(K2.__mro__)"
   ]
  },
  {
   "cell_type": "code",
   "execution_count": 47,
   "id": "e48025d4",
   "metadata": {},
   "outputs": [
    {
     "name": "stdout",
     "output_type": "stream",
     "text": [
      "(<class '__main__.Z'>, <class '__main__.K1'>, <class '__main__.C'>, <class '__main__.K3'>, <class '__main__.A'>, <class '__main__.K2'>, <class '__main__.B'>, <class '__main__.D'>, <class '__main__.E'>, <class 'object'>)\n"
     ]
    }
   ],
   "source": [
    "print(Z.__mro__)"
   ]
  },
  {
   "cell_type": "code",
   "execution_count": null,
   "id": "24b3a903",
   "metadata": {},
   "outputs": [],
   "source": []
  }
 ],
 "metadata": {
  "kernelspec": {
   "display_name": "Python 3 (ipykernel)",
   "language": "python",
   "name": "python3"
  },
  "language_info": {
   "codemirror_mode": {
    "name": "ipython",
    "version": 3
   },
   "file_extension": ".py",
   "mimetype": "text/x-python",
   "name": "python",
   "nbconvert_exporter": "python",
   "pygments_lexer": "ipython3",
   "version": "3.9.12"
  }
 },
 "nbformat": 4,
 "nbformat_minor": 5
}
