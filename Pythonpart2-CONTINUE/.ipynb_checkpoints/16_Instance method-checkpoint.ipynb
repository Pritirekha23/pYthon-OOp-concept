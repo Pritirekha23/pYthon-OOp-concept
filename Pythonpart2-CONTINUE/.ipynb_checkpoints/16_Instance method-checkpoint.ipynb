{
 "cells": [
  {
   "cell_type": "markdown",
   "id": "d46d58cc",
   "metadata": {},
   "source": [
    "# Instance method"
   ]
  },
  {
   "cell_type": "markdown",
   "id": "b37bfa32",
   "metadata": {},
   "source": [
    "->Inside Instance method we will use instance variable\n",
    "->we call instance method inside another instance method\n",
    "->Inside the class we can call instance method  using self variable and outside of the class we can call through object reference\n",
    "->By using instance method we can perform various operation like modify,delete, etc.\n",
    "->The 1st argument of the instance method must be self\n"
   ]
  },
  {
   "cell_type": "code",
   "execution_count": 3,
   "id": "f598b3d3",
   "metadata": {},
   "outputs": [
    {
     "name": "stdout",
     "output_type": "stream",
     "text": [
      "addition is 10\n",
      "addition is 8\n"
     ]
    }
   ],
   "source": [
    "# Inside Instance method we will use instance variable\n",
    "#Example-1\n",
    "class Cal:\n",
    "    def __init__(self,a,b):\n",
    "        self.a=a\n",
    "        self.b=b\n",
    "    def add(self):\n",
    "        c=self.a+self.b\n",
    "        print(f'addition is {c}')\n",
    "        \n",
    "c1=Cal(2,8)\n",
    "c1.add()\n",
    "c2=Cal(5,3)\n",
    "c2.add()"
   ]
  },
  {
   "cell_type": "code",
   "execution_count": 5,
   "id": "524c762f",
   "metadata": {},
   "outputs": [
    {
     "name": "stdout",
     "output_type": "stream",
     "text": [
      "addition is 10\n",
      "substarction is -6\n"
     ]
    }
   ],
   "source": [
    "# Example-2\n",
    "# call instance method inside another instance method\n",
    "class Cal:\n",
    "    def __init__(self,a,b):\n",
    "        self.a=a\n",
    "        self.b=b\n",
    "        \n",
    "    def add(self):\n",
    "        c=self.a+self.b\n",
    "        print(f'addition is {c}')\n",
    "        self.sub()\n",
    "    def sub(self):\n",
    "        c=self.a-self.b\n",
    "        print(f'substarction is {c}')\n",
    "        \n",
    "c1=Cal(2,8)\n",
    "c1.add()\n"
   ]
  },
  {
   "cell_type": "code",
   "execution_count": null,
   "id": "a7987492",
   "metadata": {},
   "outputs": [],
   "source": [
    "# If u want tu access instance variable go for instance method\n",
    "# 1st argument must be self in the case of instance method\n",
    "# Inside instance method we can call another instance method usimg self\n",
    "# If u want to call instance method outside of the class u have to use object reference\n"
   ]
  },
  {
   "cell_type": "code",
   "execution_count": 7,
   "id": "378cc021",
   "metadata": {},
   "outputs": [
    {
     "name": "stdout",
     "output_type": "stream",
     "text": [
      "addition is 10\n",
      "substarction is -6\n"
     ]
    }
   ],
   "source": [
    "# CALL INSTANCE METHOD OUTSIDE OF THE CLASS \n",
    "class Cal:\n",
    "    def __init__(self,a,b):\n",
    "        self.a=a\n",
    "        self.b=b\n",
    "        \n",
    "    def add(self):\n",
    "        c=self.a+self.b\n",
    "        print(f'addition is {c}')\n",
    "      \n",
    "    def sub(self):\n",
    "        c=self.a-self.b\n",
    "        print(f'substarction is {c}')\n",
    "        \n",
    "c1=Cal(2,8)\n",
    "c1.add()\n",
    "c1.sub()"
   ]
  },
  {
   "cell_type": "code",
   "execution_count": 8,
   "id": "117aba4d",
   "metadata": {},
   "outputs": [
    {
     "name": "stdout",
     "output_type": "stream",
     "text": [
      "addition is 10\n",
      "substarction is -6\n",
      "substarction is -6\n"
     ]
    }
   ],
   "source": [
    "#CALL INSTANCE METHOD OUTSIDE OF THE CLASS AS WELL AS INSIDE CLASS\n",
    "class Cal:\n",
    "    def __init__(self,a,b):\n",
    "        self.a=a\n",
    "        self.b=b\n",
    "        \n",
    "    def add(self):\n",
    "        c=self.a+self.b\n",
    "        print(f'addition is {c}')\n",
    "        self.sub()\n",
    "    def sub(self):\n",
    "        c=self.a-self.b\n",
    "        print(f'substarction is {c}')\n",
    "        \n",
    "c1=Cal(2,8)\n",
    "c1.add()\n",
    "c1.sub()\n",
    "\n",
    "# Here sub method will execute two times"
   ]
  },
  {
   "cell_type": "code",
   "execution_count": null,
   "id": "78080694",
   "metadata": {},
   "outputs": [],
   "source": []
  }
 ],
 "metadata": {
  "kernelspec": {
   "display_name": "Python 3 (ipykernel)",
   "language": "python",
   "name": "python3"
  },
  "language_info": {
   "codemirror_mode": {
    "name": "ipython",
    "version": 3
   },
   "file_extension": ".py",
   "mimetype": "text/x-python",
   "name": "python",
   "nbconvert_exporter": "python",
   "pygments_lexer": "ipython3",
   "version": "3.9.12"
  }
 },
 "nbformat": 4,
 "nbformat_minor": 5
}
