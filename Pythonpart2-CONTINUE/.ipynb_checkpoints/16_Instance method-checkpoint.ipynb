{
 "cells": [
  {
   "cell_type": "markdown",
   "id": "80f9c0d1",
   "metadata": {},
   "source": [
    "# Instance method"
   ]
  },
  {
   "cell_type": "markdown",
   "id": "0d16e3e5",
   "metadata": {},
   "source": [
    "Dt-27/12/22\n",
    "->Inside Instance method we will use instance variable\n",
    "->we call instance method inside another instance method\n",
    "->Inside the class we can call instance method  using self variable and outside of the class we can call through object reference\n",
    "->By using instance method we can perform various operation like modify,delete, etc.\n",
    "->The 1st argument of the instance method must be self\n"
   ]
  },
  {
   "cell_type": "code",
   "execution_count": 3,
   "id": "f598b3d3",
   "metadata": {},
   "outputs": [
    {
     "name": "stdout",
     "output_type": "stream",
     "text": [
      "addition is 10\n",
      "addition is 8\n"
     ]
    }
   ],
   "source": [
    "# Inside Instance method we will use instance variable\n",
    "#Example-1\n",
    "class Cal:\n",
    "    def __init__(self,a,b):\n",
    "        self.a=a\n",
    "        self.b=b\n",
    "    def add(self):\n",
    "        c=self.a+self.b\n",
    "        print(f'addition is {c}')\n",
    "        \n",
    "c1=Cal(2,8)\n",
    "c1.add()\n",
    "c2=Cal(5,3)\n",
    "c2.add()"
   ]
  },
  {
   "cell_type": "code",
   "execution_count": 5,
   "id": "524c762f",
   "metadata": {},
   "outputs": [
    {
     "name": "stdout",
     "output_type": "stream",
     "text": [
      "addition is 10\n",
      "substarction is -6\n"
     ]
    }
   ],
   "source": [
    "# Example-2\n",
    "# call instance method inside another instance method\n",
    "class Cal:\n",
    "    def __init__(self,a,b):\n",
    "        self.a=a\n",
    "        self.b=b\n",
    "        \n",
    "    def add(self):\n",
    "        c=self.a+self.b\n",
    "        print(f'addition is {c}')\n",
    "        self.sub()\n",
    "    def sub(self):\n",
    "        c=self.a-self.b\n",
    "        print(f'substarction is {c}')\n",
    "        \n",
    "c1=Cal(2,8)\n",
    "c1.add()\n"
   ]
  },
  {
   "cell_type": "code",
   "execution_count": null,
   "id": "a7987492",
   "metadata": {},
   "outputs": [],
   "source": [
    "# If u want tu access instance variable go for instance method\n",
    "# 1st argument must be self in the case of instance method\n",
    "# Inside instance method we can call another instance method usimg self\n",
    "# If u want to call instance method outside of the class u have to use object reference\n"
   ]
  },
  {
   "cell_type": "code",
   "execution_count": 7,
   "id": "6f72c3ac",
   "metadata": {},
   "outputs": [
    {
     "name": "stdout",
     "output_type": "stream",
     "text": [
      "addition is 10\n",
      "substarction is -6\n"
     ]
    }
   ],
   "source": [
    "# CALL INSTANCE METHOD OUTSIDE OF THE CLASS \n",
    "class Cal:\n",
    "    def __init__(self,a,b):\n",
    "        self.a=a\n",
    "        self.b=b\n",
    "        \n",
    "    def add(self):\n",
    "        c=self.a+self.b\n",
    "        print(f'addition is {c}')\n",
    "      \n",
    "    def sub(self):\n",
    "        c=self.a-self.b\n",
    "        print(f'substarction is {c}')\n",
    "        \n",
    "c1=Cal(2,8)\n",
    "c1.add()\n",
    "c1.sub()"
   ]
  },
  {
   "cell_type": "code",
   "execution_count": 8,
   "id": "c4d5bae5",
   "metadata": {},
   "outputs": [
    {
     "name": "stdout",
     "output_type": "stream",
     "text": [
      "addition is 10\n",
      "substarction is -6\n",
      "substarction is -6\n"
     ]
    }
   ],
   "source": [
    "#CALL INSTANCE METHOD OUTSIDE OF THE CLASS AS WELL AS INSIDE CLASS\n",
    "class Cal:\n",
    "    def __init__(self,a,b):\n",
    "        self.a=a\n",
    "        self.b=b\n",
    "        \n",
    "    def add(self):\n",
    "        c=self.a+self.b\n",
    "        print(f'addition is {c}')\n",
    "        self.sub()\n",
    "    def sub(self):\n",
    "        c=self.a-self.b\n",
    "        print(f'substarction is {c}')\n",
    "        \n",
    "c1=Cal(2,8)\n",
    "c1.add()\n",
    "c1.sub()\n",
    "\n",
    "# Here sub method will execute two times"
   ]
  },
  {
   "cell_type": "code",
   "execution_count": 17,
   "id": "650e5aec",
   "metadata": {},
   "outputs": [
    {
     "name": "stdout",
     "output_type": "stream",
     "text": [
      "{'a': 2, 'b': 8}\n",
      "{'a': 4, 'b': 5}\n",
      "{'b': 5}\n"
     ]
    }
   ],
   "source": [
    "#  By using instance method we can perform various operation like modify,delete, etc.\n",
    "\n",
    "class Test:\n",
    "    def __init__(self,a,b):\n",
    "        self.a=a\n",
    "        self.b=b\n",
    "    def modify(self,m,n):\n",
    "        self.a=m\n",
    "        self.b=n\n",
    "    def dlt(self):\n",
    "        del self.a\n",
    "        \n",
    "        \n",
    "t1=Test(2,8)\n",
    "print(t1.__dict__)\n",
    "t1.modify(4,5)  \n",
    "print(t1.__dict__)\n",
    "t1.dlt()\n",
    "print(t1.__dict__)"
   ]
  }
 ],
 "metadata": {
  "kernelspec": {
   "display_name": "Python 3 (ipykernel)",
   "language": "python",
   "name": "python3"
  },
  "language_info": {
   "codemirror_mode": {
    "name": "ipython",
    "version": 3
   },
   "file_extension": ".py",
   "mimetype": "text/x-python",
   "name": "python",
   "nbconvert_exporter": "python",
   "pygments_lexer": "ipython3",
   "version": "3.9.12"
  }
 },
 "nbformat": 4,
 "nbformat_minor": 5
}
