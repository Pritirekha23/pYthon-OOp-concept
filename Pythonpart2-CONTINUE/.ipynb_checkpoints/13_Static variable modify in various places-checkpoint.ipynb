{
 "cells": [
  {
   "cell_type": "markdown",
   "id": "9ac69730",
   "metadata": {},
   "source": [
    "# Static variable Modify in various places"
   ]
  },
  {
   "cell_type": "code",
   "execution_count": null,
   "id": "87e4d4bc",
   "metadata": {},
   "outputs": [],
   "source": [
    "# Dt-23 Dec 2022\n",
    "# In 5 places we can modify static variable\n",
    " \n",
    "#1] Outside of the class\n",
    "#2] Inside Constructor\n",
    "#3] Inside Instance method\n",
    "#4] Inside class method\n",
    "#5] Inside static method"
   ]
  },
  {
   "cell_type": "markdown",
   "id": "497faa4f",
   "metadata": {},
   "source": [
    "## 1] Outside of the class"
   ]
  },
  {
   "cell_type": "code",
   "execution_count": 12,
   "id": "3a845ce0",
   "metadata": {},
   "outputs": [
    {
     "name": "stdout",
     "output_type": "stream",
     "text": [
      "Before modification\n",
      "xyz clg\n",
      "After modification\n",
      "ABC clg\n"
     ]
    }
   ],
   "source": [
    "class Student:\n",
    "    college='xyz clg'\n",
    "print('Before modification')\n",
    "print(Student.college)\n",
    "print('After modification')\n",
    "Student.college='ABC clg'\n",
    "print(Student.college)"
   ]
  },
  {
   "cell_type": "markdown",
   "id": "51dc2499",
   "metadata": {},
   "source": [
    "## 2] Inside Constructor"
   ]
  },
  {
   "cell_type": "code",
   "execution_count": 16,
   "id": "7946846b",
   "metadata": {},
   "outputs": [
    {
     "name": "stdout",
     "output_type": "stream",
     "text": [
      "abc college\n",
      "XYZZ college\n"
     ]
    }
   ],
   "source": [
    "class Student:\n",
    "    clg='abc college'\n",
    "    \n",
    "    def __init__(Self):\n",
    "        Student.clg='XYZZ college'\n",
    "print(Student.clg)\n",
    "s1=Student()\n",
    "print(Student.clg)"
   ]
  },
  {
   "cell_type": "code",
   "execution_count": 17,
   "id": "0ec7e9dd",
   "metadata": {},
   "outputs": [
    {
     "name": "stdout",
     "output_type": "stream",
     "text": [
      "{}\n"
     ]
    }
   ],
   "source": [
    "print(s1.__dict__)"
   ]
  },
  {
   "cell_type": "code",
   "execution_count": 18,
   "id": "4933951a",
   "metadata": {},
   "outputs": [
    {
     "name": "stdout",
     "output_type": "stream",
     "text": [
      "{'__module__': '__main__', 'clg': 'XYZZ college', '__init__': <function Student.__init__ at 0x0000023B84339E50>, '__dict__': <attribute '__dict__' of 'Student' objects>, '__weakref__': <attribute '__weakref__' of 'Student' objects>, '__doc__': None}\n"
     ]
    }
   ],
   "source": [
    "print(Student.__dict__)"
   ]
  },
  {
   "cell_type": "markdown",
   "id": "e6a61684",
   "metadata": {},
   "source": [
    "## 3] Inside Instance method"
   ]
  },
  {
   "cell_type": "code",
   "execution_count": 20,
   "id": "cd20eca7",
   "metadata": {},
   "outputs": [
    {
     "name": "stdout",
     "output_type": "stream",
     "text": [
      "{'__module__': '__main__', 'college': 'KMN clg', 'modify': <function Student.modify at 0x0000023B85E4A3A0>, '__dict__': <attribute '__dict__' of 'Student' objects>, '__weakref__': <attribute '__weakref__' of 'Student' objects>, '__doc__': None}\n",
      "KMN clg\n",
      "MOP clg\n"
     ]
    }
   ],
   "source": [
    "class Student:\n",
    "    college='KMN clg'\n",
    "    \n",
    "    def modify(self):\n",
    "        Student.college='MOP clg'\n",
    "print(Student.__dict__)\n",
    "print(Student.college)\n",
    "s1=Student()\n",
    "s1.modify() # calling modify function\n",
    "print(Student.college)"
   ]
  },
  {
   "cell_type": "markdown",
   "id": "0074ce80",
   "metadata": {},
   "source": [
    "## 4] Inside class method"
   ]
  },
  {
   "cell_type": "code",
   "execution_count": 24,
   "id": "8a672cbf",
   "metadata": {},
   "outputs": [
    {
     "name": "stdout",
     "output_type": "stream",
     "text": [
      "OPQQ clg\n",
      "STVV clg\n"
     ]
    }
   ],
   "source": [
    "# inside class method using class name\n",
    "class Student:\n",
    "    clg='OPQQ clg'\n",
    "    \n",
    "    @classmethod\n",
    "    def cm(cls):\n",
    "        Student.clg='STVV clg'\n",
    "print(Student.clg)\n",
    "s1=Student()\n",
    "s1.cm()\n",
    "print(Student.clg)"
   ]
  },
  {
   "cell_type": "code",
   "execution_count": 29,
   "id": "0b22237f",
   "metadata": {},
   "outputs": [
    {
     "name": "stdout",
     "output_type": "stream",
     "text": [
      "OPQR clg\n",
      "STVVH clg\n"
     ]
    }
   ],
   "source": [
    "# inside class method using cls variable\n",
    "class Student:\n",
    "    clg='OPQR clg'\n",
    "    \n",
    "    @classmethod\n",
    "    def cm(cls):\n",
    "        cls.clg='STVVH clg'\n",
    "print(Student.clg)\n",
    "s1=Student()\n",
    "s1.cm()\n",
    "print(Student.clg)"
   ]
  },
  {
   "cell_type": "markdown",
   "id": "a8dfc34c",
   "metadata": {},
   "source": [
    "## 5] Inside static method"
   ]
  },
  {
   "cell_type": "code",
   "execution_count": 26,
   "id": "52e1d20e",
   "metadata": {},
   "outputs": [
    {
     "name": "stdout",
     "output_type": "stream",
     "text": [
      "jkLL college\n",
      "HMM college\n"
     ]
    }
   ],
   "source": [
    "class Student:\n",
    "    clg='jkLL college'\n",
    "    \n",
    "    @staticmethod\n",
    "    def sm():\n",
    "        Student.clg='HMM college'\n",
    "print(Student.clg)\n",
    "s1=Student()\n",
    "s1.sm() # calling sm to update the college name\n",
    "print(Student.clg)"
   ]
  },
  {
   "cell_type": "markdown",
   "id": "926b0f91",
   "metadata": {},
   "source": [
    "# Updating static variable value using self and object reference"
   ]
  },
  {
   "cell_type": "code",
   "execution_count": 33,
   "id": "70abb5bf",
   "metadata": {},
   "outputs": [
    {
     "name": "stdout",
     "output_type": "stream",
     "text": [
      "OPP college\n",
      "OPP college\n"
     ]
    }
   ],
   "source": [
    "# Modifying static variable using self variable\n",
    "# WE GET UNEXPECTED RESULT HERE\n",
    "class Student:\n",
    "    clg='OPP college'\n",
    "    \n",
    "    def __init__(self):\n",
    "        self.clg='GHK college'  # It will create a new insatnce variable instead of modifying static variable\n",
    "\n",
    "print(Student.clg)\n",
    "s1=Student()\n",
    "print(Student.clg)"
   ]
  },
  {
   "cell_type": "code",
   "execution_count": 34,
   "id": "778ff2d0",
   "metadata": {},
   "outputs": [
    {
     "name": "stdout",
     "output_type": "stream",
     "text": [
      "{'__module__': '__main__', 'clg': 'OPP college', '__init__': <function Student.__init__ at 0x0000023B85E53820>, '__dict__': <attribute '__dict__' of 'Student' objects>, '__weakref__': <attribute '__weakref__' of 'Student' objects>, '__doc__': None}\n"
     ]
    }
   ],
   "source": [
    "print(Student.__dict__)"
   ]
  },
  {
   "cell_type": "code",
   "execution_count": 35,
   "id": "e7bb33ad",
   "metadata": {},
   "outputs": [
    {
     "name": "stdout",
     "output_type": "stream",
     "text": [
      "{'clg': 'GHK college'}\n"
     ]
    }
   ],
   "source": [
    "print(s1.__dict__)"
   ]
  },
  {
   "cell_type": "code",
   "execution_count": 38,
   "id": "243c280a",
   "metadata": {},
   "outputs": [
    {
     "name": "stdout",
     "output_type": "stream",
     "text": [
      "KKj college\n",
      "KKj college\n"
     ]
    }
   ],
   "source": [
    "# modify usning reference variabele(unexpected result)\n",
    "class Student:\n",
    "    clg='KKj college'\n",
    "    \n",
    "s1=Student()\n",
    "print(Student.clg)\n",
    "s1.clg='ABC college' # It will create instance variable dor s1 object\n",
    "print(Student.clg)"
   ]
  },
  {
   "cell_type": "code",
   "execution_count": 39,
   "id": "7dfccc52",
   "metadata": {},
   "outputs": [
    {
     "name": "stdout",
     "output_type": "stream",
     "text": [
      "{'clg': 'ABC college'}\n"
     ]
    }
   ],
   "source": [
    "print(s1.__dict__)"
   ]
  },
  {
   "cell_type": "code",
   "execution_count": 40,
   "id": "26e04544",
   "metadata": {},
   "outputs": [
    {
     "name": "stdout",
     "output_type": "stream",
     "text": [
      "KKj college\n"
     ]
    }
   ],
   "source": [
    "print(Student.clg)"
   ]
  }
 ],
 "metadata": {
  "kernelspec": {
   "display_name": "Python 3 (ipykernel)",
   "language": "python",
   "name": "python3"
  },
  "language_info": {
   "codemirror_mode": {
    "name": "ipython",
    "version": 3
   },
   "file_extension": ".py",
   "mimetype": "text/x-python",
   "name": "python",
   "nbconvert_exporter": "python",
   "pygments_lexer": "ipython3",
   "version": "3.9.12"
  }
 },
 "nbformat": 4,
 "nbformat_minor": 5
}
