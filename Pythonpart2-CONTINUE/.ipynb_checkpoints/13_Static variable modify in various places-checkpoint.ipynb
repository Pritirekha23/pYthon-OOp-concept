{
 "cells": [
  {
   "cell_type": "markdown",
   "id": "9ac69730",
   "metadata": {},
   "source": [
    "# Static variable Modify in various places"
   ]
  },
  {
   "cell_type": "code",
   "execution_count": null,
   "id": "87e4d4bc",
   "metadata": {},
   "outputs": [],
   "source": [
    "# Dt-23 Dec 2022\n",
    "# In 5 places we can access static variable\n",
    " \n",
    "#1] Outside of the class\n",
    "#2] Inside Constructor\n",
    "#3] Inside Instance method\n",
    "#4] Inside class method\n",
    "#5] Inside static method"
   ]
  },
  {
   "cell_type": "markdown",
   "id": "aa831a0d",
   "metadata": {},
   "source": [
    "## 1] Outside of the class"
   ]
  },
  {
   "cell_type": "code",
   "execution_count": 12,
   "id": "3a845ce0",
   "metadata": {},
   "outputs": [
    {
     "name": "stdout",
     "output_type": "stream",
     "text": [
      "Before modification\n",
      "xyz clg\n",
      "After modification\n",
      "ABC clg\n"
     ]
    }
   ],
   "source": [
    "class Student:\n",
    "    college='xyz clg'\n",
    "print('Before modification')\n",
    "print(Student.college)\n",
    "print('After modification')\n",
    "Student.college='ABC clg'\n",
    "print(Student.college)"
   ]
  },
  {
   "cell_type": "markdown",
   "id": "c2b78f88",
   "metadata": {},
   "source": [
    "## 2] Inside Constructor"
   ]
  },
  {
   "cell_type": "code",
   "execution_count": 16,
   "id": "7946846b",
   "metadata": {},
   "outputs": [
    {
     "name": "stdout",
     "output_type": "stream",
     "text": [
      "abc college\n",
      "XYZZ college\n"
     ]
    }
   ],
   "source": [
    "class Student:\n",
    "    clg='abc college'\n",
    "    \n",
    "    def __init__(Self):\n",
    "        Student.clg='XYZZ college'\n",
    "print(Student.clg)\n",
    "s1=Student()\n",
    "print(Student.clg)"
   ]
  },
  {
   "cell_type": "code",
   "execution_count": 17,
   "id": "47541ff6",
   "metadata": {},
   "outputs": [
    {
     "name": "stdout",
     "output_type": "stream",
     "text": [
      "{}\n"
     ]
    }
   ],
   "source": [
    "print(s1.__dict__)"
   ]
  },
  {
   "cell_type": "code",
   "execution_count": 18,
   "id": "e36a6bc1",
   "metadata": {},
   "outputs": [
    {
     "name": "stdout",
     "output_type": "stream",
     "text": [
      "{'__module__': '__main__', 'clg': 'XYZZ college', '__init__': <function Student.__init__ at 0x0000023B84339E50>, '__dict__': <attribute '__dict__' of 'Student' objects>, '__weakref__': <attribute '__weakref__' of 'Student' objects>, '__doc__': None}\n"
     ]
    }
   ],
   "source": [
    "print(Student.__dict__)"
   ]
  },
  {
   "cell_type": "markdown",
   "id": "02274173",
   "metadata": {},
   "source": [
    "## 3] Inside Instance method"
   ]
  },
  {
   "cell_type": "code",
   "execution_count": 20,
   "id": "55dd7838",
   "metadata": {},
   "outputs": [
    {
     "name": "stdout",
     "output_type": "stream",
     "text": [
      "{'__module__': '__main__', 'college': 'KMN clg', 'modify': <function Student.modify at 0x0000023B85E4A3A0>, '__dict__': <attribute '__dict__' of 'Student' objects>, '__weakref__': <attribute '__weakref__' of 'Student' objects>, '__doc__': None}\n",
      "KMN clg\n",
      "MOP clg\n"
     ]
    }
   ],
   "source": [
    "class Student:\n",
    "    college='KMN clg'\n",
    "    \n",
    "    def modify(self):\n",
    "        Student.college='MOP clg'\n",
    "print(Student.__dict__)\n",
    "print(Student.college)\n",
    "s1=Student()\n",
    "s1.modify() # calling modify function\n",
    "print(Student.college)"
   ]
  },
  {
   "cell_type": "markdown",
   "id": "d51742bb",
   "metadata": {},
   "source": [
    "## 4] Inside class method"
   ]
  },
  {
   "cell_type": "code",
   "execution_count": 24,
   "id": "fcc46bd5",
   "metadata": {},
   "outputs": [
    {
     "name": "stdout",
     "output_type": "stream",
     "text": [
      "OPQQ clg\n",
      "STVV clg\n"
     ]
    }
   ],
   "source": [
    "# inside class method using class name\n",
    "class Student:\n",
    "    clg='OPQQ clg'\n",
    "    \n",
    "    @classmethod\n",
    "    def cm(cls):\n",
    "        Student.clg='STVV clg'\n",
    "print(Student.clg)\n",
    "s1=Student()\n",
    "s1.cm()\n",
    "print(Student.clg)"
   ]
  },
  {
   "cell_type": "code",
   "execution_count": 29,
   "id": "e5dd795d",
   "metadata": {},
   "outputs": [
    {
     "name": "stdout",
     "output_type": "stream",
     "text": [
      "OPQR clg\n",
      "STVVH clg\n"
     ]
    }
   ],
   "source": [
    "# inside class method using cls variable\n",
    "class Student:\n",
    "    clg='OPQR clg'\n",
    "    \n",
    "    @classmethod\n",
    "    def cm(cls):\n",
    "        cls.clg='STVVH clg'\n",
    "print(Student.clg)\n",
    "s1=Student()\n",
    "s1.cm()\n",
    "print(Student.clg)"
   ]
  },
  {
   "cell_type": "markdown",
   "id": "8847a567",
   "metadata": {},
   "source": [
    "## 5] Inside static method"
   ]
  },
  {
   "cell_type": "code",
   "execution_count": 26,
   "id": "52e1d20e",
   "metadata": {},
   "outputs": [
    {
     "name": "stdout",
     "output_type": "stream",
     "text": [
      "jkLL college\n",
      "HMM college\n"
     ]
    }
   ],
   "source": [
    "class Student:\n",
    "    clg='jkLL college'\n",
    "    \n",
    "    @staticmethod\n",
    "    def sm():\n",
    "        Student.clg='HMM college'\n",
    "print(Student.clg)\n",
    "s1=Student()\n",
    "s1.sm() # calling sm to update the college name\n",
    "print(Student.clg)"
   ]
  },
  {
   "cell_type": "markdown",
   "id": "119dc9e5",
   "metadata": {},
   "source": [
    "# Updating static variable value using self and object reference"
   ]
  },
  {
   "cell_type": "code",
   "execution_count": 33,
   "id": "45ff6ecd",
   "metadata": {},
   "outputs": [
    {
     "name": "stdout",
     "output_type": "stream",
     "text": [
      "OPP college\n",
      "OPP college\n"
     ]
    }
   ],
   "source": [
    "# WE GET UNEXPECTED RESULT HERE\n",
    "class Student:\n",
    "    clg='OPP college'\n",
    "    \n",
    "    def __init__(self):\n",
    "        self.clg='GHK college'  # It will create a new insatnce variable instead of modifying static variable\n",
    "\n",
    "print(Student.clg)\n",
    "s1=Student()\n",
    "print(Student.clg)"
   ]
  },
  {
   "cell_type": "code",
   "execution_count": 34,
   "id": "60fc73fd",
   "metadata": {},
   "outputs": [
    {
     "name": "stdout",
     "output_type": "stream",
     "text": [
      "{'__module__': '__main__', 'clg': 'OPP college', '__init__': <function Student.__init__ at 0x0000023B85E53820>, '__dict__': <attribute '__dict__' of 'Student' objects>, '__weakref__': <attribute '__weakref__' of 'Student' objects>, '__doc__': None}\n"
     ]
    }
   ],
   "source": [
    "print(Student.__dict__)"
   ]
  },
  {
   "cell_type": "code",
   "execution_count": 35,
   "id": "7f373667",
   "metadata": {},
   "outputs": [
    {
     "name": "stdout",
     "output_type": "stream",
     "text": [
      "{'clg': 'GHK college'}\n"
     ]
    }
   ],
   "source": [
    "print(s1.__dict__)"
   ]
  }
 ],
 "metadata": {
  "kernelspec": {
   "display_name": "Python 3 (ipykernel)",
   "language": "python",
   "name": "python3"
  },
  "language_info": {
   "codemirror_mode": {
    "name": "ipython",
    "version": 3
   },
   "file_extension": ".py",
   "mimetype": "text/x-python",
   "name": "python",
   "nbconvert_exporter": "python",
   "pygments_lexer": "ipython3",
   "version": "3.9.12"
  }
 },
 "nbformat": 4,
 "nbformat_minor": 5
}
