{
 "cells": [
  {
   "cell_type": "markdown",
   "id": "3d5f0439",
   "metadata": {},
   "source": [
    "# Count the number of upper case,lower case,vowels,digits,space,and special symbols from a given string"
   ]
  },
  {
   "cell_type": "code",
   "execution_count": null,
   "id": "3066f7f7",
   "metadata": {},
   "outputs": [],
   "source": [
    "# dt-09/01/23 (9:23)"
   ]
  },
  {
   "cell_type": "code",
   "execution_count": null,
   "id": "05c1584d",
   "metadata": {},
   "outputs": [],
   "source": [
    "class Stringg:\n",
    "    def __init__(self,msg):\n",
    "        self.uppercase=0\n",
    "        self.lowercase=0\n",
    "        self.vowels=0\n",
    "        self.digits=0\n",
    "        self.space=0\n",
    "        self.spsymbol=0\n",
    "        self.msg=msg\n",
    "        \n",
    "    def count_uppercase(self):\n",
    "        for i in self.msg:\n",
    "            if i.isupper():\n",
    "                self.uppercase=self.uppercase+1\n",
    "            \n",
    "    def count_lowercase(self):\n",
    "        for i in self.msg:\n",
    "            if i.islower():\n",
    "                self.lowercase=self.lowercase+1\n",
    "    \n",
    "            \n",
    "    def count_vowel(self):\n",
    "        for i in self.msg:\n",
    "            if i in ('a','e','i','o','u','A','E','I','O','U')\n",
    "                self.vowel=self.vowel+1\n",
    "    \n",
    "    def count_digit(self):\n",
    "        for i in self.msg:\n",
    "            if i.isdigit():\n",
    "                self.digit=self.digit+1\n",
    "                \n",
    "    def count_space(self):\n",
    "        for i in self.msg:\n",
    "            if i.isspace():\n",
    "                self.space=self.space+1\n",
    "                \n",
    "    def count_spsymbol(self):\n",
    "        for i in self.msg:\n",
    "            if i.isalpha():\n",
    "                pass\n",
    "            elif i.space():\n",
    "                pass\n",
    "            elif i.digit():\n",
    "                pass\n",
    "            else:\n",
    "                self.spsymbol=self.spsymbol+1\n",
    "        \n",
    "    def call_all(self):\n",
    "        self.count_uppercase()\n",
    "        self.count_lowercase()\n",
    "        self.count_vowel()\n",
    "        self.count_digit()   \n",
    "        self.count_space()\n",
    "        self.count_spsymbol()\n",
    "    \n",
    "    def printdetails(self):\n",
    "        print('-'*30)\n",
    "        print(f'Uppercase = {self.uppercase}')\n",
    "        print(f'Uppercase = {self.lowercase}')\n",
    "        print(f'Uppercase = {self.vowel}')\n",
    "        print(f'Uppercase = {self.digit}')\n",
    "        print(f'Uppercase = {self.space}')\n",
    "        print(f'Uppercase = {self.spsymbol}')\n",
    "\n",
    "\n",
    "\n",
    "        \n",
    "\n",
    "    \n",
    "    \n",
    "    \n",
    "msg=input('Enter a message::')\n",
    "s1=Stringg(msg)\n",
    "s1.call_all()    \n"
   ]
  },
  {
   "cell_type": "code",
   "execution_count": null,
   "id": "129d4d89",
   "metadata": {},
   "outputs": [],
   "source": []
  },
  {
   "cell_type": "code",
   "execution_count": null,
   "id": "9dd9956a",
   "metadata": {},
   "outputs": [],
   "source": []
  },
  {
   "cell_type": "code",
   "execution_count": null,
   "id": "4dc6865e",
   "metadata": {},
   "outputs": [],
   "source": []
  }
 ],
 "metadata": {
  "kernelspec": {
   "display_name": "Python 3 (ipykernel)",
   "language": "python",
   "name": "python3"
  },
  "language_info": {
   "codemirror_mode": {
    "name": "ipython",
    "version": 3
   },
   "file_extension": ".py",
   "mimetype": "text/x-python",
   "name": "python",
   "nbconvert_exporter": "python",
   "pygments_lexer": "ipython3",
   "version": "3.9.12"
  }
 },
 "nbformat": 4,
 "nbformat_minor": 5
}
