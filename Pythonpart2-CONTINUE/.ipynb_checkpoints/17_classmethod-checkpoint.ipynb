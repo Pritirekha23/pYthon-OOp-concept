{
 "cells": [
  {
   "cell_type": "markdown",
   "id": "94bcc08d",
   "metadata": {},
   "source": [
    "# CLASS METHOD"
   ]
  },
  {
   "cell_type": "raw",
   "id": "df65934d",
   "metadata": {},
   "source": [
    "### Dt-27/12/22 ###\n",
    " (1)If u want to class level variable(static variable) go for class method.\n",
    " (2) The first argument of the class method is cls\n",
    " (3) @classmethod decorator we have to write before class method\n",
    " (4) we can call class method inside another class method\n",
    " (5)Inside the class we can call class method using class name and outside of     the class we can xall through the class name or object reference\n",
    " (6)By using classs method we can perform various operations like modify,delte   etc."
   ]
  },
  {
   "cell_type": "code",
   "execution_count": 4,
   "id": "6f85836d",
   "metadata": {},
   "outputs": [
    {
     "name": "stdout",
     "output_type": "stream",
     "text": [
      "college name is ABC clg\n",
      "principal name is Dr Chand\n",
      "2737825054976\n",
      "2737825054976\n"
     ]
    }
   ],
   "source": [
    "# Example-1\n",
    "class Student:\n",
    "    college='ABC clg'\n",
    "    principal='Dr Chand'\n",
    "    \n",
    "    @classmethod\n",
    "    \n",
    "    def cm(cls):\n",
    "        print(f'college name is {cls.college}')\n",
    "        print(f'principal name is {cls.principal}')\n",
    "        print(id(cls))\n",
    "        print(id(Student))\n",
    "#cls and Student both are pointing to same memory location\n",
    "#Diff   Student is global variable so it will note destroy but cls will destroy from the memory once classmethod execution completed\n",
    "\n",
    "Student.cm()"
   ]
  },
  {
   "cell_type": "code",
   "execution_count": null,
   "id": "a04eb639",
   "metadata": {},
   "outputs": [],
   "source": [
    "# class method will note execute automatically"
   ]
  },
  {
   "cell_type": "code",
   "execution_count": null,
   "id": "99471a5c",
   "metadata": {},
   "outputs": [],
   "source": []
  }
 ],
 "metadata": {
  "kernelspec": {
   "display_name": "Python 3 (ipykernel)",
   "language": "python",
   "name": "python3"
  },
  "language_info": {
   "codemirror_mode": {
    "name": "ipython",
    "version": 3
   },
   "file_extension": ".py",
   "mimetype": "text/x-python",
   "name": "python",
   "nbconvert_exporter": "python",
   "pygments_lexer": "ipython3",
   "version": "3.9.12"
  }
 },
 "nbformat": 4,
 "nbformat_minor": 5
}
