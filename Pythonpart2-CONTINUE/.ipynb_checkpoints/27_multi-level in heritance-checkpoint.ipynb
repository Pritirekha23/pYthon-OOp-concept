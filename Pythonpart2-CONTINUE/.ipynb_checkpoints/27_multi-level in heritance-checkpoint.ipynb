{
 "cells": [
  {
   "cell_type": "markdown",
   "id": "f836718e",
   "metadata": {},
   "source": [
    "# Multilevel inheritance"
   ]
  },
  {
   "cell_type": "markdown",
   "id": "55deb237",
   "metadata": {},
   "source": [
    "(1) In multi-level inheritance we will deal with at least 3 classes.\n",
    "(2) Here a class is derived from a class and which is already derived from another class.\n"
   ]
  },
  {
   "cell_type": "code",
   "execution_count": 29,
   "id": "7de37674",
   "metadata": {},
   "outputs": [
    {
     "name": "stdout",
     "output_type": "stream",
     "text": [
      "parent class method1\n",
      "parent class method2\n",
      "child class method3\n",
      "child class method4\n",
      "Grandchild  class method5\n",
      "Grandchild class method6\n"
     ]
    }
   ],
   "source": [
    "#ex-1\n",
    "\n",
    "class A:\n",
    "    def method1(self):\n",
    "        print('parent class method1')\n",
    "        \n",
    "    def method2(self):\n",
    "        print('parent class method2')\n",
    "        \n",
    "        \n",
    "class B(A):\n",
    "    def method3(self):\n",
    "        print('child class method3')\n",
    "        \n",
    "    def method4(self):\n",
    "        print('child class method4')\n",
    "        \n",
    "class C(B):\n",
    "    def method5(self):\n",
    "        print('Grandchild  class method5')\n",
    "     \n",
    "    def method6(self):\n",
    "            print('Grandchild class method6')\n",
    "            \n",
    "     \n",
    "c=C()\n",
    "c.method1()\n",
    "c.method2()   \n",
    "c.method3()\n",
    "c.method4()   \n",
    "c.method5()\n",
    "c.method6()   \n"
   ]
  },
  {
   "cell_type": "code",
   "execution_count": 32,
   "id": "6f339e20",
   "metadata": {},
   "outputs": [
    {
     "name": "stdout",
     "output_type": "stream",
     "text": [
      "parent class method1\n",
      "parent class method2\n",
      "child class method3\n",
      "child class method4\n"
     ]
    },
    {
     "ename": "AttributeError",
     "evalue": "'B' object has no attribute 'method5'",
     "output_type": "error",
     "traceback": [
      "\u001b[1;31m-----------------------------------------------------\u001b[0m",
      "\u001b[1;31mAttributeError\u001b[0m      Traceback (most recent call last)",
      "Input \u001b[1;32mIn [32]\u001b[0m, in \u001b[0;36m<cell line: 7>\u001b[1;34m()\u001b[0m\n\u001b[0;32m      5\u001b[0m b\u001b[38;5;241m.\u001b[39mmethod3()\n\u001b[0;32m      6\u001b[0m b\u001b[38;5;241m.\u001b[39mmethod4()   \n\u001b[1;32m----> 7\u001b[0m \u001b[43mb\u001b[49m\u001b[38;5;241;43m.\u001b[39;49m\u001b[43mmethod5\u001b[49m()\n\u001b[0;32m      8\u001b[0m b\u001b[38;5;241m.\u001b[39mmethod6()\n",
      "\u001b[1;31mAttributeError\u001b[0m: 'B' object has no attribute 'method5'"
     ]
    }
   ],
   "source": [
    "#B classs object\n",
    "b=B()\n",
    "b.method1()\n",
    "b.method2()\n",
    "b.method3()\n",
    "b.method4() \n",
    "#b class cant access the method of  class C but it can access method of class A\n",
    "b.method5()\n",
    "b.method6()  "
   ]
  },
  {
   "cell_type": "code",
   "execution_count": null,
   "id": "b254a812",
   "metadata": {},
   "outputs": [],
   "source": []
  }
 ],
 "metadata": {
  "kernelspec": {
   "display_name": "Python 3 (ipykernel)",
   "language": "python",
   "name": "python3"
  },
  "language_info": {
   "codemirror_mode": {
    "name": "ipython",
    "version": 3
   },
   "file_extension": ".py",
   "mimetype": "text/x-python",
   "name": "python",
   "nbconvert_exporter": "python",
   "pygments_lexer": "ipython3",
   "version": "3.9.12"
  }
 },
 "nbformat": 4,
 "nbformat_minor": 5
}
