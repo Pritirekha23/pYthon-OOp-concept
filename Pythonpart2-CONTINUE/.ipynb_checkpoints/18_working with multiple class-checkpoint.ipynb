{
 "cells": [
  {
   "cell_type": "code",
   "execution_count": null,
   "id": "e2a3b3c9",
   "metadata": {},
   "outputs": [],
   "source": [
    "# Dt-29 Dec 2022"
   ]
  },
  {
   "cell_type": "markdown",
   "id": "2d5b2802",
   "metadata": {},
   "source": [
    "# WORKING WITH MULTIPLE CLASS"
   ]
  },
  {
   "cell_type": "code",
   "execution_count": 9,
   "id": "a1e82332",
   "metadata": {},
   "outputs": [
    {
     "name": "stdout",
     "output_type": "stream",
     "text": [
      "STUDENT INFORMATION\n",
      "\n",
      "Name is priyanka\n",
      "Age is 23\n",
      "Roll is 1023\n",
      "--------------------\n",
      "STUDENT INFORMATION\n",
      "\n",
      "Name is Zini\n",
      "Age is 24\n",
      "Roll is 1024\n",
      "--------------------\n",
      "FACULTY INFORAMATION\n",
      "\n",
      "Name is Santosh\n",
      "Age is 26\n",
      "fid is 1026\n",
      "STUDENT INFORMATION\n",
      "\n",
      "Name is Zini\n",
      "Age is 24\n",
      "Roll is 1024\n",
      "--------------------\n"
     ]
    }
   ],
   "source": [
    "class Student:\n",
    "    def __init__(self,name,age,roll):\n",
    "        self.name=name\n",
    "        self.age=age\n",
    "        self.roll=roll\n",
    "    def printdetails(self):\n",
    "        print('STUDENT INFORMATION\\n')\n",
    "        print(f'Name is {self.name}')\n",
    "        print(f'Age is {self.age}')\n",
    "        print(f'Roll is {self.roll}')\n",
    "        print('-'*20)\n",
    "        \n",
    "class Faculty:\n",
    "    def __init__(self,name,age,fid):\n",
    "        self.name=name\n",
    "        self.age=age\n",
    "        self.fid=fid\n",
    "    def printdetails(self):\n",
    "        print('FACULTY INFORAMATION\\n')\n",
    "        print(f'Name is {self.name}')\n",
    "        print(f'Age is {self.age}')\n",
    "        print(f'fid is {self.fid}')\n",
    "        \n",
    "\n",
    "s1=Student('priyanka',23,1023)\n",
    "s1.printdetails()\n",
    "s2=Student('Zini',24,1024)\n",
    "s2.printdetails()\n",
    "\n",
    "\n",
    "f1=Faculty('Santosh',26,1026)\n",
    "f1.printdetails()\n",
    "\n",
    "\n",
    "s2.printdetails()"
   ]
  }
 ],
 "metadata": {
  "kernelspec": {
   "display_name": "Python 3 (ipykernel)",
   "language": "python",
   "name": "python3"
  },
  "language_info": {
   "codemirror_mode": {
    "name": "ipython",
    "version": 3
   },
   "file_extension": ".py",
   "mimetype": "text/x-python",
   "name": "python",
   "nbconvert_exporter": "python",
   "pygments_lexer": "ipython3",
   "version": "3.9.12"
  }
 },
 "nbformat": 4,
 "nbformat_minor": 5
}
