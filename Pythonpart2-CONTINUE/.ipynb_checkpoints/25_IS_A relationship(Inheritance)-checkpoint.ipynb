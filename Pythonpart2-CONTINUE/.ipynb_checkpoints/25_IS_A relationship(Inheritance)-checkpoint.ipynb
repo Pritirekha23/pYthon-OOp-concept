{
 "cells": [
  {
   "cell_type": "markdown",
   "id": "1760f165",
   "metadata": {},
   "source": [
    "dt-13/01/2023\n",
    "Inheritance"
   ]
  },
  {
   "cell_type": "markdown",
   "id": "35cf4b91",
   "metadata": {},
   "source": [
    "# IS-A Relationship"
   ]
  },
  {
   "cell_type": "markdown",
   "id": "95648d1a",
   "metadata": {},
   "source": [
    "1)It is a mechanism for creating a new class from an exsting class one.\n",
    "2)It simply means creating a new class from an old class.\n",
    "3)old class->Base class,Parent class\n",
    "new class->Derived class,child class,subclass,extended class \n",
    "4)If we will create a new class from an old class then we can access all the members of the old class inside the new classs."
   ]
  },
  {
   "cell_type": "code",
   "execution_count": 2,
   "id": "7679dde4",
   "metadata": {},
   "outputs": [
    {
     "name": "stdout",
     "output_type": "stream",
     "text": [
      "B class method4\n"
     ]
    },
    {
     "ename": "AttributeError",
     "evalue": "'B' object has no attribute 'method1'",
     "output_type": "error",
     "traceback": [
      "\u001b[1;31m------------------------------------------------------------------------\u001b[0m",
      "\u001b[1;31mAttributeError\u001b[0m                         Traceback (most recent call last)",
      "Input \u001b[1;32mIn [2]\u001b[0m, in \u001b[0;36m<cell line: 18>\u001b[1;34m()\u001b[0m\n\u001b[0;32m     16\u001b[0m b\u001b[38;5;241m=\u001b[39mB()\n\u001b[0;32m     17\u001b[0m b\u001b[38;5;241m.\u001b[39mmethod4()\n\u001b[1;32m---> 18\u001b[0m \u001b[43mb\u001b[49m\u001b[38;5;241;43m.\u001b[39;49m\u001b[43mmethod1\u001b[49m()\n",
      "\u001b[1;31mAttributeError\u001b[0m: 'B' object has no attribute 'method1'"
     ]
    }
   ],
   "source": [
    "#Example-1\n",
    "\n",
    "class A:\n",
    "    def method1(self):\n",
    "        print('A class method1')\n",
    "    def method2(self):\n",
    "        print('A class method2')\n",
    "    def method3(self):\n",
    "        print('A class method3')\n",
    "        \n",
    "class B:\n",
    "    def method4(self):\n",
    "            print('B class method4')\n",
    "        \n",
    "        \n",
    "b=B()\n",
    "b.method4()\n",
    "b.method1()        "
   ]
  },
  {
   "cell_type": "code",
   "execution_count": 5,
   "id": "685fd07a",
   "metadata": {},
   "outputs": [
    {
     "name": "stdout",
     "output_type": "stream",
     "text": [
      "B class method4\n",
      "A class method1\n",
      "A class method2\n",
      "A class method3\n"
     ]
    }
   ],
   "source": [
    "#Example-2\n",
    "\n",
    "class A:\n",
    "    def method1(self):\n",
    "        print('A class method1')\n",
    "    def method2(self):\n",
    "        print('A class method2')\n",
    "    def method3(self):\n",
    "        print('A class method3')\n",
    "        \n",
    "class B(A):\n",
    "    def method4(self):\n",
    "            print('B class method4')\n",
    "        \n",
    "        \n",
    "b=B()\n",
    "b.method4()\n",
    "b.method1()  \n",
    "b.method2()\n",
    "b.method3()"
   ]
  },
  {
   "cell_type": "code",
   "execution_count": 6,
   "id": "2c54ace8",
   "metadata": {},
   "outputs": [
    {
     "ename": "AttributeError",
     "evalue": "'B' object has no attribute 'x'",
     "output_type": "error",
     "traceback": [
      "\u001b[1;31m------------------------------------------------------------------------\u001b[0m",
      "\u001b[1;31mAttributeError\u001b[0m                         Traceback (most recent call last)",
      "Input \u001b[1;32mIn [6]\u001b[0m, in \u001b[0;36m<cell line: 13>\u001b[1;34m()\u001b[0m\n\u001b[0;32m     10\u001b[0m         \u001b[38;5;28mprint\u001b[39m(\u001b[38;5;124mf\u001b[39m\u001b[38;5;124m'\u001b[39m\u001b[38;5;124my is\u001b[39m\u001b[38;5;132;01m{\u001b[39;00m\u001b[38;5;28mself\u001b[39m\u001b[38;5;241m.\u001b[39my\u001b[38;5;132;01m}\u001b[39;00m\u001b[38;5;124m'\u001b[39m)\n\u001b[0;32m     12\u001b[0m b\u001b[38;5;241m=\u001b[39mB()\n\u001b[1;32m---> 13\u001b[0m \u001b[43mb\u001b[49m\u001b[38;5;241;43m.\u001b[39;49m\u001b[43mprintdetails\u001b[49m\u001b[43m(\u001b[49m\u001b[43m)\u001b[49m\n",
      "Input \u001b[1;32mIn [6]\u001b[0m, in \u001b[0;36mB.printdetails\u001b[1;34m(self)\u001b[0m\n\u001b[0;32m      8\u001b[0m \u001b[38;5;28;01mdef\u001b[39;00m \u001b[38;5;21mprintdetails\u001b[39m(\u001b[38;5;28mself\u001b[39m):\n\u001b[1;32m----> 9\u001b[0m     \u001b[38;5;28mprint\u001b[39m(\u001b[38;5;124mf\u001b[39m\u001b[38;5;124m'\u001b[39m\u001b[38;5;124mx is\u001b[39m\u001b[38;5;132;01m{\u001b[39;00m\u001b[38;5;28mself\u001b[39m\u001b[38;5;241m.\u001b[39mx\u001b[38;5;132;01m}\u001b[39;00m\u001b[38;5;124m'\u001b[39m)\n\u001b[0;32m     10\u001b[0m     \u001b[38;5;28mprint\u001b[39m(\u001b[38;5;124mf\u001b[39m\u001b[38;5;124m'\u001b[39m\u001b[38;5;124my is\u001b[39m\u001b[38;5;132;01m{\u001b[39;00m\u001b[38;5;28mself\u001b[39m\u001b[38;5;241m.\u001b[39my\u001b[38;5;132;01m}\u001b[39;00m\u001b[38;5;124m'\u001b[39m)\n",
      "\u001b[1;31mAttributeError\u001b[0m: 'B' object has no attribute 'x'"
     ]
    }
   ],
   "source": [
    "#example-3\n",
    "class A:\n",
    "    def __init__(self):\n",
    "        self.x=10\n",
    "        self.y=20\n",
    "        \n",
    "class B:\n",
    "    def printdetails(self):\n",
    "        print(f'x is{self.x}') #'B' object has no attribute 'x'\n",
    "        print(f'y is{self.y}') #'B' object has no attribute 'y'\n",
    "        \n",
    "b=B()\n",
    "b.printdetails()"
   ]
  },
  {
   "cell_type": "code",
   "execution_count": 7,
   "id": "c955c3d7",
   "metadata": {},
   "outputs": [
    {
     "name": "stdout",
     "output_type": "stream",
     "text": [
      "x is10\n",
      "y is20\n"
     ]
    }
   ],
   "source": [
    "# solution of example-3\n",
    "#example-3  (make class B as child of class A)\n",
    "class A:\n",
    "    def __init__(self):\n",
    "        self.x=10\n",
    "        self.y=20\n",
    "        \n",
    "class B(A):\n",
    "    \n",
    "    def printdetails(self):\n",
    "        print(f'x is{self.x}') \n",
    "        print(f'y is{self.y}') \n",
    "        \n",
    "b=B()\n",
    "b.printdetails()"
   ]
  },
  {
   "cell_type": "markdown",
   "id": "6e431e1f",
   "metadata": {},
   "source": [
    "NOTE:\n",
    " Any changes made in old class it will reflect on new class"
   ]
  }
 ],
 "metadata": {
  "kernelspec": {
   "display_name": "Python 3 (ipykernel)",
   "language": "python",
   "name": "python3"
  },
  "language_info": {
   "codemirror_mode": {
    "name": "ipython",
    "version": 3
   },
   "file_extension": ".py",
   "mimetype": "text/x-python",
   "name": "python",
   "nbconvert_exporter": "python",
   "pygments_lexer": "ipython3",
   "version": "3.9.12"
  }
 },
 "nbformat": 4,
 "nbformat_minor": 5
}
