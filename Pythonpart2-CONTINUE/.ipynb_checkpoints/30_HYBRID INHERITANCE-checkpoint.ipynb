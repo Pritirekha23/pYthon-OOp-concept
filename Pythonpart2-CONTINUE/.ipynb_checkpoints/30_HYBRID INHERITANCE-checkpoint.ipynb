{
 "cells": [
  {
   "cell_type": "markdown",
   "id": "9f8f0398",
   "metadata": {},
   "source": [
    "# HYBRID INHERITANCE"
   ]
  },
  {
   "cell_type": "markdown",
   "id": "3bd1cbd2",
   "metadata": {},
   "source": [
    "dt-19 jan 2023\n",
    "(1)It is the collection of more than one inheritance.\n",
    "(2)ex- single+multi-level\n",
    "    single+hierarchical\n",
    "    single+multiple\n",
    "    single+multi-level+hierarchical+multiple"
   ]
  },
  {
   "cell_type": "code",
   "execution_count": 1,
   "id": "1362790e",
   "metadata": {},
   "outputs": [
    {
     "name": "stdout",
     "output_type": "stream",
     "text": [
      "parent class A method1\n",
      "parent class A method2\n",
      " class B method3\n"
     ]
    },
    {
     "ename": "AttributeError",
     "evalue": "'C' object has no attribute 'method4'",
     "output_type": "error",
     "traceback": [
      "\u001b[1;31m------------------------------------------------------------------------\u001b[0m",
      "\u001b[1;31mAttributeError\u001b[0m                         Traceback (most recent call last)",
      "Input \u001b[1;32mIn [1]\u001b[0m, in \u001b[0;36m<cell line: 23>\u001b[1;34m()\u001b[0m\n\u001b[0;32m     21\u001b[0m c\u001b[38;5;241m.\u001b[39mmethod2()\n\u001b[0;32m     22\u001b[0m c\u001b[38;5;241m.\u001b[39mmethod3()\n\u001b[1;32m---> 23\u001b[0m \u001b[43mc\u001b[49m\u001b[38;5;241;43m.\u001b[39;49m\u001b[43mmethod4\u001b[49m()\n\u001b[0;32m     24\u001b[0m c\u001b[38;5;241m.\u001b[39mmethod5()\n\u001b[0;32m     25\u001b[0m c\u001b[38;5;241m.\u001b[39mmethod6()\n",
      "\u001b[1;31mAttributeError\u001b[0m: 'C' object has no attribute 'method4'"
     ]
    }
   ],
   "source": [
    "#Ex-1\n",
    "\n",
    "class A:\n",
    "    def method1(self):\n",
    "        print('parent class A method1')\n",
    "    def method2(self):\n",
    "        print('parent class A method2')\n",
    "        \n",
    "class B(A):\n",
    "    def method3(self):\n",
    "        print(' class B method3')\n",
    "    \n",
    "class C(A):\n",
    "    def method5(self):\n",
    "        print('class C method5')\n",
    "    def method6(self):\n",
    "        print('class method6')\n",
    "        \n",
    "class D(B,C):\n",
    "    def method7(self):\n",
    "        print(' class D method7')\n",
    "    def method8(self):\n",
    "        print(' class D method8')\n",
    "        \n",
    "c=C()\n",
    "c.method1()\n",
    "c.method2()\n",
    "c.method3()\n",
    "c.method4()\n",
    "c.method5()\n",
    "c.method6()"
   ]
  },
  {
   "cell_type": "code",
   "execution_count": null,
   "id": "4447b967",
   "metadata": {},
   "outputs": [],
   "source": []
  },
  {
   "cell_type": "code",
   "execution_count": null,
   "id": "c56ef14d",
   "metadata": {},
   "outputs": [],
   "source": []
  }
 ],
 "metadata": {
  "kernelspec": {
   "display_name": "Python 3 (ipykernel)",
   "language": "python",
   "name": "python3"
  },
  "language_info": {
   "codemirror_mode": {
    "name": "ipython",
    "version": 3
   },
   "file_extension": ".py",
   "mimetype": "text/x-python",
   "name": "python",
   "nbconvert_exporter": "python",
   "pygments_lexer": "ipython3",
   "version": "3.9.12"
  }
 },
 "nbformat": 4,
 "nbformat_minor": 5
}
