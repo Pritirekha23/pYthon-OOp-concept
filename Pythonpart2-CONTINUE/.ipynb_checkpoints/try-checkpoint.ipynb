{
 "cells": [
  {
   "cell_type": "code",
   "execution_count": 9,
   "id": "c5385208",
   "metadata": {},
   "outputs": [
    {
     "name": "stdout",
     "output_type": "stream",
     "text": [
      "Defaulting to user installation because normal site-packages is not writeableNote: you may need to restart the kernel to use updated packages.\n",
      "Requirement already satisfied: tk in c:\\users\\asus\\appdata\\roaming\\python\\python39\\site-packages (0.1.0)\n",
      "\n"
     ]
    }
   ],
   "source": [
    "pip install tk"
   ]
  },
  {
   "cell_type": "code",
   "execution_count": 16,
   "id": "94c02892",
   "metadata": {},
   "outputs": [],
   "source": [
    "from tkinter import*\n",
    "top=Tk()\n",
    "top.mainloop()"
   ]
  },
  {
   "cell_type": "code",
   "execution_count": 27,
   "id": "8a0ab846",
   "metadata": {},
   "outputs": [
    {
     "ename": "NameError",
     "evalue": "name 'centre' is not defined",
     "output_type": "error",
     "traceback": [
      "\u001b[1;31m---------------------------------------------------------------------------\u001b[0m",
      "\u001b[1;31mNameError\u001b[0m                                 Traceback (most recent call last)",
      "Input \u001b[1;32mIn [27]\u001b[0m, in \u001b[0;36m<cell line: 10>\u001b[1;34m()\u001b[0m\n\u001b[0;32m      8\u001b[0m bluebutton\u001b[38;5;241m.\u001b[39mpack( side \u001b[38;5;241m=\u001b[39m TOP )  \n\u001b[0;32m      9\u001b[0m bluebutton \u001b[38;5;241m=\u001b[39m Button(parent, text \u001b[38;5;241m=\u001b[39m \u001b[38;5;124m\"\u001b[39m\u001b[38;5;124mPink\u001b[39m\u001b[38;5;124m\"\u001b[39m, fg \u001b[38;5;241m=\u001b[39m \u001b[38;5;124m\"\u001b[39m\u001b[38;5;124mpink\u001b[39m\u001b[38;5;124m\"\u001b[39m)  \n\u001b[1;32m---> 10\u001b[0m bluebutton\u001b[38;5;241m.\u001b[39mpack( side \u001b[38;5;241m=\u001b[39m \u001b[43mcentre\u001b[49m )  \n\u001b[0;32m     11\u001b[0m blackbutton \u001b[38;5;241m=\u001b[39m Button(parent, text \u001b[38;5;241m=\u001b[39m \u001b[38;5;124m\"\u001b[39m\u001b[38;5;124mGreen\u001b[39m\u001b[38;5;124m\"\u001b[39m, fg \u001b[38;5;241m=\u001b[39m \u001b[38;5;124m\"\u001b[39m\u001b[38;5;124mgreen\u001b[39m\u001b[38;5;124m\"\u001b[39m)  \n\u001b[0;32m     12\u001b[0m blackbutton\u001b[38;5;241m.\u001b[39mpack( side \u001b[38;5;241m=\u001b[39m BOTTOM)  \n",
      "\u001b[1;31mNameError\u001b[0m: name 'centre' is not defined"
     ]
    }
   ],
   "source": [
    "from tkinter import *  \n",
    "parent = Tk()  \n",
    "redbutton = Button(parent, text = \"Red\", fg = \"red\")  \n",
    "redbutton.pack( side = LEFT)  \n",
    "greenbutton = Button(parent, text = \"Black\", fg = \"black\")  \n",
    "greenbutton.pack( side = RIGHT )  \n",
    "bluebutton = Button(parent, text = \"Blue\", fg = \"blue\")  \n",
    "bluebutton.pack( side = TOP )    \n",
    "blackbutton = Button(parent, text = \"Green\", fg = \"green\")  \n",
    "blackbutton.pack( side = BOTTOM)  \n",
    "parent.mainloop()  "
   ]
  }
 ],
 "metadata": {
  "kernelspec": {
   "display_name": "Python 3 (ipykernel)",
   "language": "python",
   "name": "python3"
  },
  "language_info": {
   "codemirror_mode": {
    "name": "ipython",
    "version": 3
   },
   "file_extension": ".py",
   "mimetype": "text/x-python",
   "name": "python",
   "nbconvert_exporter": "python",
   "pygments_lexer": "ipython3",
   "version": "3.9.12"
  }
 },
 "nbformat": 4,
 "nbformat_minor": 5
}
