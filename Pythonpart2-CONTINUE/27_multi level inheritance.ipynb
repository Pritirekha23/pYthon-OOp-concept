{
 "cells": [
  {
   "cell_type": "code",
   "execution_count": 9,
   "id": "ea7e8863",
   "metadata": {},
   "outputs": [
    {
     "name": "stdout",
     "output_type": "stream",
     "text": [
      "Defaulting to user installation because normal site-packages is not writeableNote: you may need to restart the kernel to use updated packages.\n",
      "Requirement already satisfied: tk in c:\\users\\asus\\appdata\\roaming\\python\\python39\\site-packages (0.1.0)\n",
      "\n"
     ]
    }
   ],
   "source": [
    "pip install tk"
   ]
  },
  {
   "cell_type": "code",
   "execution_count": 16,
   "id": "3a6aa714",
   "metadata": {},
   "outputs": [],
   "source": [
    "from tkinter import*\n",
    "top=Tk()\n",
    "top.mainloop()"
   ]
  },
  {
   "cell_type": "code",
   "execution_count": 28,
   "id": "11856755",
   "metadata": {},
   "outputs": [],
   "source": [
    "from tkinter import *  \n",
    "parent = Tk()  \n",
    "redbutton = Button(parent, text = \"Red\", fg = \"red\")  \n",
    "redbutton.pack( side = LEFT)  \n",
    "greenbutton = Button(parent, text = \"Black\", fg = \"black\")  \n",
    "greenbutton.pack( side = RIGHT )  \n",
    "bluebutton = Button(parent, text = \"Blue\", fg = \"blue\")  \n",
    "bluebutton.pack( side = TOP )    \n",
    "blackbutton = Button(parent, text = \"Green\", fg = \"green\")  \n",
    "blackbutton.pack( side = BOTTOM)  \n",
    "parent.mainloop()  "
   ]
  }
 ],
 "metadata": {
  "kernelspec": {
   "display_name": "Python 3 (ipykernel)",
   "language": "python",
   "name": "python3"
  },
  "language_info": {
   "codemirror_mode": {
    "name": "ipython",
    "version": 3
   },
   "file_extension": ".py",
   "mimetype": "text/x-python",
   "name": "python",
   "nbconvert_exporter": "python",
   "pygments_lexer": "ipython3",
   "version": "3.9.12"
  }
 },
 "nbformat": 4,
 "nbformat_minor": 5
}
